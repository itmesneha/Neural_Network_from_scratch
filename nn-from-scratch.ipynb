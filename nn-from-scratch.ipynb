{
 "cells": [
  {
   "cell_type": "code",
   "execution_count": 1,
   "id": "bc7b3e74",
   "metadata": {
    "_cell_guid": "b1076dfc-b9ad-4769-8c92-a6c4dae69d19",
    "_uuid": "8f2839f25d086af736a60e9eeb907d3b93b6e0e5",
    "execution": {
     "iopub.execute_input": "2025-10-09T17:29:38.826657Z",
     "iopub.status.busy": "2025-10-09T17:29:38.826299Z",
     "iopub.status.idle": "2025-10-09T17:29:40.914443Z",
     "shell.execute_reply": "2025-10-09T17:29:40.913272Z"
    },
    "papermill": {
     "duration": 2.095855,
     "end_time": "2025-10-09T17:29:40.916646",
     "exception": false,
     "start_time": "2025-10-09T17:29:38.820791",
     "status": "completed"
    },
    "tags": []
   },
   "outputs": [],
   "source": [
    "import numpy as np\n",
    "import pandas as pd\n",
    "from matplotlib import pyplot as plt"
   ]
  },
  {
   "cell_type": "code",
   "execution_count": 2,
   "id": "8104f927",
   "metadata": {
    "execution": {
     "iopub.execute_input": "2025-10-09T17:29:40.925587Z",
     "iopub.status.busy": "2025-10-09T17:29:40.925155Z",
     "iopub.status.idle": "2025-10-09T17:29:44.317462Z",
     "shell.execute_reply": "2025-10-09T17:29:44.316296Z"
    },
    "papermill": {
     "duration": 3.399154,
     "end_time": "2025-10-09T17:29:44.319836",
     "exception": false,
     "start_time": "2025-10-09T17:29:40.920682",
     "status": "completed"
    },
    "tags": []
   },
   "outputs": [],
   "source": [
    "data = pd.read_csv('/kaggle/input/digit-recognizer/train.csv')"
   ]
  },
  {
   "cell_type": "markdown",
   "id": "94454a3c",
   "metadata": {
    "papermill": {
     "duration": 0.003337,
     "end_time": "2025-10-09T17:29:44.327418",
     "exception": false,
     "start_time": "2025-10-09T17:29:44.324081",
     "status": "completed"
    },
    "tags": []
   },
   "source": [
    "Each row is a data point. \n",
    "784 pixels per data point. (i.e. per X)"
   ]
  },
  {
   "cell_type": "code",
   "execution_count": 3,
   "id": "ee0c9e05",
   "metadata": {
    "execution": {
     "iopub.execute_input": "2025-10-09T17:29:44.336347Z",
     "iopub.status.busy": "2025-10-09T17:29:44.336004Z",
     "iopub.status.idle": "2025-10-09T17:29:44.367326Z",
     "shell.execute_reply": "2025-10-09T17:29:44.365967Z"
    },
    "papermill": {
     "duration": 0.037951,
     "end_time": "2025-10-09T17:29:44.369406",
     "exception": false,
     "start_time": "2025-10-09T17:29:44.331455",
     "status": "completed"
    },
    "tags": []
   },
   "outputs": [
    {
     "data": {
      "text/html": [
       "<div>\n",
       "<style scoped>\n",
       "    .dataframe tbody tr th:only-of-type {\n",
       "        vertical-align: middle;\n",
       "    }\n",
       "\n",
       "    .dataframe tbody tr th {\n",
       "        vertical-align: top;\n",
       "    }\n",
       "\n",
       "    .dataframe thead th {\n",
       "        text-align: right;\n",
       "    }\n",
       "</style>\n",
       "<table border=\"1\" class=\"dataframe\">\n",
       "  <thead>\n",
       "    <tr style=\"text-align: right;\">\n",
       "      <th></th>\n",
       "      <th>label</th>\n",
       "      <th>pixel0</th>\n",
       "      <th>pixel1</th>\n",
       "      <th>pixel2</th>\n",
       "      <th>pixel3</th>\n",
       "      <th>pixel4</th>\n",
       "      <th>pixel5</th>\n",
       "      <th>pixel6</th>\n",
       "      <th>pixel7</th>\n",
       "      <th>pixel8</th>\n",
       "      <th>...</th>\n",
       "      <th>pixel774</th>\n",
       "      <th>pixel775</th>\n",
       "      <th>pixel776</th>\n",
       "      <th>pixel777</th>\n",
       "      <th>pixel778</th>\n",
       "      <th>pixel779</th>\n",
       "      <th>pixel780</th>\n",
       "      <th>pixel781</th>\n",
       "      <th>pixel782</th>\n",
       "      <th>pixel783</th>\n",
       "    </tr>\n",
       "  </thead>\n",
       "  <tbody>\n",
       "    <tr>\n",
       "      <th>0</th>\n",
       "      <td>1</td>\n",
       "      <td>0</td>\n",
       "      <td>0</td>\n",
       "      <td>0</td>\n",
       "      <td>0</td>\n",
       "      <td>0</td>\n",
       "      <td>0</td>\n",
       "      <td>0</td>\n",
       "      <td>0</td>\n",
       "      <td>0</td>\n",
       "      <td>...</td>\n",
       "      <td>0</td>\n",
       "      <td>0</td>\n",
       "      <td>0</td>\n",
       "      <td>0</td>\n",
       "      <td>0</td>\n",
       "      <td>0</td>\n",
       "      <td>0</td>\n",
       "      <td>0</td>\n",
       "      <td>0</td>\n",
       "      <td>0</td>\n",
       "    </tr>\n",
       "    <tr>\n",
       "      <th>1</th>\n",
       "      <td>0</td>\n",
       "      <td>0</td>\n",
       "      <td>0</td>\n",
       "      <td>0</td>\n",
       "      <td>0</td>\n",
       "      <td>0</td>\n",
       "      <td>0</td>\n",
       "      <td>0</td>\n",
       "      <td>0</td>\n",
       "      <td>0</td>\n",
       "      <td>...</td>\n",
       "      <td>0</td>\n",
       "      <td>0</td>\n",
       "      <td>0</td>\n",
       "      <td>0</td>\n",
       "      <td>0</td>\n",
       "      <td>0</td>\n",
       "      <td>0</td>\n",
       "      <td>0</td>\n",
       "      <td>0</td>\n",
       "      <td>0</td>\n",
       "    </tr>\n",
       "    <tr>\n",
       "      <th>2</th>\n",
       "      <td>1</td>\n",
       "      <td>0</td>\n",
       "      <td>0</td>\n",
       "      <td>0</td>\n",
       "      <td>0</td>\n",
       "      <td>0</td>\n",
       "      <td>0</td>\n",
       "      <td>0</td>\n",
       "      <td>0</td>\n",
       "      <td>0</td>\n",
       "      <td>...</td>\n",
       "      <td>0</td>\n",
       "      <td>0</td>\n",
       "      <td>0</td>\n",
       "      <td>0</td>\n",
       "      <td>0</td>\n",
       "      <td>0</td>\n",
       "      <td>0</td>\n",
       "      <td>0</td>\n",
       "      <td>0</td>\n",
       "      <td>0</td>\n",
       "    </tr>\n",
       "    <tr>\n",
       "      <th>3</th>\n",
       "      <td>4</td>\n",
       "      <td>0</td>\n",
       "      <td>0</td>\n",
       "      <td>0</td>\n",
       "      <td>0</td>\n",
       "      <td>0</td>\n",
       "      <td>0</td>\n",
       "      <td>0</td>\n",
       "      <td>0</td>\n",
       "      <td>0</td>\n",
       "      <td>...</td>\n",
       "      <td>0</td>\n",
       "      <td>0</td>\n",
       "      <td>0</td>\n",
       "      <td>0</td>\n",
       "      <td>0</td>\n",
       "      <td>0</td>\n",
       "      <td>0</td>\n",
       "      <td>0</td>\n",
       "      <td>0</td>\n",
       "      <td>0</td>\n",
       "    </tr>\n",
       "    <tr>\n",
       "      <th>4</th>\n",
       "      <td>0</td>\n",
       "      <td>0</td>\n",
       "      <td>0</td>\n",
       "      <td>0</td>\n",
       "      <td>0</td>\n",
       "      <td>0</td>\n",
       "      <td>0</td>\n",
       "      <td>0</td>\n",
       "      <td>0</td>\n",
       "      <td>0</td>\n",
       "      <td>...</td>\n",
       "      <td>0</td>\n",
       "      <td>0</td>\n",
       "      <td>0</td>\n",
       "      <td>0</td>\n",
       "      <td>0</td>\n",
       "      <td>0</td>\n",
       "      <td>0</td>\n",
       "      <td>0</td>\n",
       "      <td>0</td>\n",
       "      <td>0</td>\n",
       "    </tr>\n",
       "  </tbody>\n",
       "</table>\n",
       "<p>5 rows × 785 columns</p>\n",
       "</div>"
      ],
      "text/plain": [
       "   label  pixel0  pixel1  pixel2  pixel3  pixel4  pixel5  pixel6  pixel7  \\\n",
       "0      1       0       0       0       0       0       0       0       0   \n",
       "1      0       0       0       0       0       0       0       0       0   \n",
       "2      1       0       0       0       0       0       0       0       0   \n",
       "3      4       0       0       0       0       0       0       0       0   \n",
       "4      0       0       0       0       0       0       0       0       0   \n",
       "\n",
       "   pixel8  ...  pixel774  pixel775  pixel776  pixel777  pixel778  pixel779  \\\n",
       "0       0  ...         0         0         0         0         0         0   \n",
       "1       0  ...         0         0         0         0         0         0   \n",
       "2       0  ...         0         0         0         0         0         0   \n",
       "3       0  ...         0         0         0         0         0         0   \n",
       "4       0  ...         0         0         0         0         0         0   \n",
       "\n",
       "   pixel780  pixel781  pixel782  pixel783  \n",
       "0         0         0         0         0  \n",
       "1         0         0         0         0  \n",
       "2         0         0         0         0  \n",
       "3         0         0         0         0  \n",
       "4         0         0         0         0  \n",
       "\n",
       "[5 rows x 785 columns]"
      ]
     },
     "execution_count": 3,
     "metadata": {},
     "output_type": "execute_result"
    }
   ],
   "source": [
    "data.head()"
   ]
  },
  {
   "cell_type": "code",
   "execution_count": 4,
   "id": "6a6b86d4",
   "metadata": {
    "execution": {
     "iopub.execute_input": "2025-10-09T17:29:44.379432Z",
     "iopub.status.busy": "2025-10-09T17:29:44.379093Z",
     "iopub.status.idle": "2025-10-09T17:29:44.511082Z",
     "shell.execute_reply": "2025-10-09T17:29:44.509869Z"
    },
    "papermill": {
     "duration": 0.139638,
     "end_time": "2025-10-09T17:29:44.513234",
     "exception": false,
     "start_time": "2025-10-09T17:29:44.373596",
     "status": "completed"
    },
    "tags": []
   },
   "outputs": [
    {
     "name": "stdout",
     "output_type": "stream",
     "text": [
      "m rows:  42000 n cols:  785\n"
     ]
    }
   ],
   "source": [
    "data = np.array(data)\n",
    "m, n = data.shape\n",
    "print('m rows: ', m, 'n cols: ', n)"
   ]
  },
  {
   "cell_type": "code",
   "execution_count": 5,
   "id": "6451f59f",
   "metadata": {
    "execution": {
     "iopub.execute_input": "2025-10-09T17:29:44.523142Z",
     "iopub.status.busy": "2025-10-09T17:29:44.522746Z",
     "iopub.status.idle": "2025-10-09T17:29:45.112490Z",
     "shell.execute_reply": "2025-10-09T17:29:45.111147Z"
    },
    "papermill": {
     "duration": 0.597219,
     "end_time": "2025-10-09T17:29:45.114516",
     "exception": false,
     "start_time": "2025-10-09T17:29:44.517297",
     "status": "completed"
    },
    "tags": []
   },
   "outputs": [
    {
     "data": {
      "text/plain": [
       "(785, 1000)"
      ]
     },
     "execution_count": 5,
     "metadata": {},
     "output_type": "execute_result"
    }
   ],
   "source": [
    "np.random.shuffle(data) \n",
    "# shuffle the data to prevent order based bias\n",
    "# allows model to converge quicker as it's exposed to wide variety of data\n",
    "\n",
    "data_dev = data[0:1000].T # now each col is an example instead of each row\n",
    "data_dev.shape"
   ]
  },
  {
   "cell_type": "code",
   "execution_count": 6,
   "id": "8b2a1e7e",
   "metadata": {
    "execution": {
     "iopub.execute_input": "2025-10-09T17:29:45.125009Z",
     "iopub.status.busy": "2025-10-09T17:29:45.124432Z",
     "iopub.status.idle": "2025-10-09T17:29:45.308831Z",
     "shell.execute_reply": "2025-10-09T17:29:45.307424Z"
    },
    "papermill": {
     "duration": 0.191659,
     "end_time": "2025-10-09T17:29:45.310936",
     "exception": false,
     "start_time": "2025-10-09T17:29:45.119277",
     "status": "completed"
    },
    "tags": []
   },
   "outputs": [],
   "source": [
    "Y_dev = data_dev[0]\n",
    "Y_dev # labels\n",
    "X_dev = data_dev[1:n]\n",
    "X_dev = X_dev / 255. # pixels\n",
    "\n",
    "data_train = data[1000:m].T\n",
    "Y_train = data_train[0]\n",
    "X_train = data_train[1:n]\n",
    "X_train = X_train / 255.\n",
    "\n",
    "_, m_train = X_train.shape"
   ]
  },
  {
   "cell_type": "code",
   "execution_count": 7,
   "id": "d252f58c",
   "metadata": {
    "execution": {
     "iopub.execute_input": "2025-10-09T17:29:45.320964Z",
     "iopub.status.busy": "2025-10-09T17:29:45.320628Z",
     "iopub.status.idle": "2025-10-09T17:29:45.327157Z",
     "shell.execute_reply": "2025-10-09T17:29:45.326245Z"
    },
    "papermill": {
     "duration": 0.013308,
     "end_time": "2025-10-09T17:29:45.328686",
     "exception": false,
     "start_time": "2025-10-09T17:29:45.315378",
     "status": "completed"
    },
    "tags": []
   },
   "outputs": [
    {
     "data": {
      "text/plain": [
       "array([8, 4, 2, ..., 6, 0, 0])"
      ]
     },
     "execution_count": 7,
     "metadata": {},
     "output_type": "execute_result"
    }
   ],
   "source": [
    "Y_train"
   ]
  },
  {
   "cell_type": "code",
   "execution_count": 8,
   "id": "10e3c54a",
   "metadata": {
    "execution": {
     "iopub.execute_input": "2025-10-09T17:29:45.339075Z",
     "iopub.status.busy": "2025-10-09T17:29:45.338636Z",
     "iopub.status.idle": "2025-10-09T17:29:45.345037Z",
     "shell.execute_reply": "2025-10-09T17:29:45.343938Z"
    },
    "papermill": {
     "duration": 0.013373,
     "end_time": "2025-10-09T17:29:45.346725",
     "exception": false,
     "start_time": "2025-10-09T17:29:45.333352",
     "status": "completed"
    },
    "tags": []
   },
   "outputs": [
    {
     "data": {
      "text/plain": [
       "41000"
      ]
     },
     "execution_count": 8,
     "metadata": {},
     "output_type": "execute_result"
    }
   ],
   "source": [
    "Y_train.size"
   ]
  },
  {
   "cell_type": "code",
   "execution_count": 9,
   "id": "05402580",
   "metadata": {
    "execution": {
     "iopub.execute_input": "2025-10-09T17:29:45.356167Z",
     "iopub.status.busy": "2025-10-09T17:29:45.355754Z",
     "iopub.status.idle": "2025-10-09T17:29:45.362078Z",
     "shell.execute_reply": "2025-10-09T17:29:45.360960Z"
    },
    "papermill": {
     "duration": 0.01319,
     "end_time": "2025-10-09T17:29:45.364054",
     "exception": false,
     "start_time": "2025-10-09T17:29:45.350864",
     "status": "completed"
    },
    "tags": []
   },
   "outputs": [
    {
     "data": {
      "text/plain": [
       "(784,)"
      ]
     },
     "execution_count": 9,
     "metadata": {},
     "output_type": "execute_result"
    }
   ],
   "source": [
    "X_train[:, 0].shape # first column all rows"
   ]
  },
  {
   "cell_type": "code",
   "execution_count": 10,
   "id": "90aefff7",
   "metadata": {
    "execution": {
     "iopub.execute_input": "2025-10-09T17:29:45.374683Z",
     "iopub.status.busy": "2025-10-09T17:29:45.374329Z",
     "iopub.status.idle": "2025-10-09T17:29:45.385470Z",
     "shell.execute_reply": "2025-10-09T17:29:45.384507Z"
    },
    "papermill": {
     "duration": 0.0185,
     "end_time": "2025-10-09T17:29:45.387294",
     "exception": false,
     "start_time": "2025-10-09T17:29:45.368794",
     "status": "completed"
    },
    "tags": []
   },
   "outputs": [],
   "source": [
    "def init_params():\n",
    "    # each col is an example\n",
    "    # X : (784 x m)\n",
    "    # hidden layer: 10 nodes: (10 x m) - - Z\n",
    "    # bias: (10 x m)\n",
    "    # Z = W.X + b\n",
    "    W1 = np.random.rand(10, 784) * 0.01\n",
    "    b1 = np.zeros((10, 1))\n",
    "\n",
    "    W2 = np.random.rand(10, 10) * 0.01\n",
    "    b2 = np.zeros((10, 1))\n",
    "\n",
    "    return W1, b1, W2, b2\n",
    "\n",
    "def ReLU(Z): \n",
    "    # this goes through every element in Z\n",
    "    return np.maximum(Z, 0) # 0 if z <= 0 else z : z is a matrix (10 x m)\n",
    "\n",
    "def softmax(Z):\n",
    "    A = np.exp(Z) / sum(np.exp(Z))\n",
    "    return A\n",
    "    # sum up through each column \n",
    "    # ie. collapses the amount of rows to 1\n",
    "\n",
    "def forward_prop(W1, b1, W2, b2, X):\n",
    "    Z1 = W1.dot(X) + b1\n",
    "    A1 = ReLU(Z1)\n",
    "    Z2 = W2.dot(A1) + b2\n",
    "    A2 = softmax(Z2) # predicted Y\n",
    "    return Z1, A1, Z2, A2\n",
    "\n",
    "# did not understand this well\n",
    "def one_hot(Y):\n",
    "    one_hot_Y = np.zeros((Y.size, Y.max() + 1))\n",
    "    one_hot_Y[np.arange(Y.size), Y] = 1\n",
    "    one_hot_Y = one_hot_Y.T\n",
    "    return one_hot_Y\n",
    "\n",
    "def derive_ReLU(Z):\n",
    "    return Z > 0\n",
    "\n",
    "def back_prop(Z1, A1, Z2, A2, W1, W2, X, Y):\n",
    "    m = X.shape[1]\n",
    "    one_hot_Y = one_hot(Y)\n",
    "    dZ2 = A2 - one_hot_Y\n",
    "    dW2 = 1 / m * dZ2.dot(A1.T)\n",
    "    db2 = 1 / m * np.sum(dZ2)\n",
    "    dZ1 = W2.T.dot(dZ2) * derive_ReLU(Z1)\n",
    "    dW1 = 1 / m * dZ1.dot(X.T)\n",
    "    db1 = 1 / m * np.sum(dZ1)\n",
    "    return dW1, db1, dW2, db2\n",
    "\n",
    "def update_params(W1, b1, W2, b2, dW1, db1, dW2, db2, alpha):\n",
    "    W1 -= alpha * dW1\n",
    "    b1 -= alpha * db1\n",
    "    W2 -= alpha * dW2\n",
    "    b2 -= alpha * db2\n",
    "    return W1, b1, W2, b2"
   ]
  },
  {
   "cell_type": "code",
   "execution_count": 11,
   "id": "9a278f14",
   "metadata": {
    "execution": {
     "iopub.execute_input": "2025-10-09T17:29:45.397035Z",
     "iopub.status.busy": "2025-10-09T17:29:45.396492Z",
     "iopub.status.idle": "2025-10-09T17:29:45.403964Z",
     "shell.execute_reply": "2025-10-09T17:29:45.402757Z"
    },
    "papermill": {
     "duration": 0.014012,
     "end_time": "2025-10-09T17:29:45.405492",
     "exception": false,
     "start_time": "2025-10-09T17:29:45.391480",
     "status": "completed"
    },
    "tags": []
   },
   "outputs": [],
   "source": [
    "def get_predictions(A2):\n",
    "    return np.argmax(A2, 0) # this returns index of maximum value along col\n",
    "    # so this will return the index at which the value = 1\n",
    "    # which will be the actual label i.e. 0,1,2...9\n",
    "\n",
    "def get_accuracy(predictions, Y):\n",
    "    print(predictions, Y)\n",
    "    return np.sum(predictions == Y) / Y.size\n",
    "\n",
    "def gradient_descent(X, Y, alpha, iterations):\n",
    "    W1, b1, W2, b2 = init_params()\n",
    "    for i in range(iterations):\n",
    "        Z1, A1, Z2, A2 = forward_prop(W1, b1, W2, b2, X)\n",
    "        dW1, db1, dW2, db2 = back_prop(Z1, A1, Z2, A2, W1, W2, X, Y)\n",
    "        W1, b1, W2, b2 = update_params(W1, b1, W2, b2, dW1, db1, dW2, db2, alpha)\n",
    "        if i % 10 == 0:\n",
    "            print(\"Iterations: \", i)\n",
    "            predictions = get_predictions(A2)\n",
    "            print(\"Accuracy: \", get_accuracy(predictions, Y))\n",
    "\n",
    "    return W1, b1, W2, b2"
   ]
  },
  {
   "cell_type": "code",
   "execution_count": 12,
   "id": "2752b325",
   "metadata": {
    "execution": {
     "iopub.execute_input": "2025-10-09T17:29:45.415134Z",
     "iopub.status.busy": "2025-10-09T17:29:45.414826Z",
     "iopub.status.idle": "2025-10-09T17:30:24.296430Z",
     "shell.execute_reply": "2025-10-09T17:30:24.295599Z"
    },
    "papermill": {
     "duration": 38.888368,
     "end_time": "2025-10-09T17:30:24.298232",
     "exception": false,
     "start_time": "2025-10-09T17:29:45.409864",
     "status": "completed"
    },
    "tags": []
   },
   "outputs": [
    {
     "name": "stdout",
     "output_type": "stream",
     "text": [
      "Iterations:  0\n",
      "[0 0 0 ... 0 0 0] [8 4 2 ... 6 0 0]\n",
      "Accuracy:  0.0981219512195122\n",
      "Iterations:  10\n",
      "[0 0 0 ... 0 0 0] [8 4 2 ... 6 0 0]\n",
      "Accuracy:  0.0981219512195122\n",
      "Iterations:  20\n",
      "[0 0 0 ... 0 0 0] [8 4 2 ... 6 0 0]\n",
      "Accuracy:  0.0981219512195122\n",
      "Iterations:  30\n",
      "[0 0 0 ... 0 0 0] [8 4 2 ... 6 0 0]\n",
      "Accuracy:  0.0981219512195122\n",
      "Iterations:  40\n",
      "[0 0 0 ... 0 0 0] [8 4 2 ... 6 0 0]\n",
      "Accuracy:  0.0981219512195122\n",
      "Iterations:  50\n",
      "[0 0 0 ... 0 0 0] [8 4 2 ... 6 0 0]\n",
      "Accuracy:  0.0981219512195122\n",
      "Iterations:  60\n",
      "[0 0 0 ... 0 0 0] [8 4 2 ... 6 0 0]\n",
      "Accuracy:  0.0981219512195122\n",
      "Iterations:  70\n",
      "[0 0 0 ... 0 0 0] [8 4 2 ... 6 0 0]\n",
      "Accuracy:  0.0981219512195122\n",
      "Iterations:  80\n",
      "[0 0 0 ... 0 0 0] [8 4 2 ... 6 0 0]\n",
      "Accuracy:  0.1005609756097561\n",
      "Iterations:  90\n",
      "[0 6 0 ... 0 0 0] [8 4 2 ... 6 0 0]\n",
      "Accuracy:  0.11934146341463414\n",
      "Iterations:  100\n",
      "[0 6 6 ... 0 0 0] [8 4 2 ... 6 0 0]\n",
      "Accuracy:  0.17712195121951219\n",
      "Iterations:  110\n",
      "[3 6 6 ... 6 0 0] [8 4 2 ... 6 0 0]\n",
      "Accuracy:  0.24478048780487804\n",
      "Iterations:  120\n",
      "[3 6 6 ... 6 0 0] [8 4 2 ... 6 0 0]\n",
      "Accuracy:  0.28429268292682924\n",
      "Iterations:  130\n",
      "[3 6 6 ... 6 0 0] [8 4 2 ... 6 0 0]\n",
      "Accuracy:  0.30685365853658536\n",
      "Iterations:  140\n",
      "[3 6 6 ... 6 0 0] [8 4 2 ... 6 0 0]\n",
      "Accuracy:  0.376609756097561\n",
      "Iterations:  150\n",
      "[3 4 6 ... 6 0 0] [8 4 2 ... 6 0 0]\n",
      "Accuracy:  0.4365609756097561\n",
      "Iterations:  160\n",
      "[8 4 6 ... 6 0 0] [8 4 2 ... 6 0 0]\n",
      "Accuracy:  0.4711463414634146\n",
      "Iterations:  170\n",
      "[8 4 2 ... 6 0 0] [8 4 2 ... 6 0 0]\n",
      "Accuracy:  0.4916341463414634\n",
      "Iterations:  180\n",
      "[8 4 2 ... 6 0 0] [8 4 2 ... 6 0 0]\n",
      "Accuracy:  0.5096829268292683\n",
      "Iterations:  190\n",
      "[8 4 2 ... 6 0 0] [8 4 2 ... 6 0 0]\n",
      "Accuracy:  0.5268536585365854\n",
      "Iterations:  200\n",
      "[8 4 2 ... 6 0 0] [8 4 2 ... 6 0 0]\n",
      "Accuracy:  0.5453170731707317\n",
      "Iterations:  210\n",
      "[8 4 2 ... 6 0 0] [8 4 2 ... 6 0 0]\n",
      "Accuracy:  0.5670243902439024\n",
      "Iterations:  220\n",
      "[8 4 2 ... 6 0 0] [8 4 2 ... 6 0 0]\n",
      "Accuracy:  0.6233414634146341\n",
      "Iterations:  230\n",
      "[8 4 2 ... 6 0 0] [8 4 2 ... 6 0 0]\n",
      "Accuracy:  0.6579512195121952\n",
      "Iterations:  240\n",
      "[8 4 2 ... 6 0 0] [8 4 2 ... 6 0 0]\n",
      "Accuracy:  0.6723414634146342\n",
      "Iterations:  250\n",
      "[8 4 2 ... 6 0 0] [8 4 2 ... 6 0 0]\n",
      "Accuracy:  0.7189756097560975\n",
      "Iterations:  260\n",
      "[8 4 2 ... 6 0 0] [8 4 2 ... 6 0 0]\n",
      "Accuracy:  0.7960487804878049\n",
      "Iterations:  270\n",
      "[8 4 2 ... 6 0 0] [8 4 2 ... 6 0 0]\n",
      "Accuracy:  0.8071219512195122\n",
      "Iterations:  280\n",
      "[8 4 2 ... 6 0 0] [8 4 2 ... 6 0 0]\n",
      "Accuracy:  0.816780487804878\n",
      "Iterations:  290\n",
      "[8 4 2 ... 6 0 0] [8 4 2 ... 6 0 0]\n",
      "Accuracy:  0.8244878048780487\n",
      "Iterations:  300\n",
      "[8 4 2 ... 6 0 0] [8 4 2 ... 6 0 0]\n",
      "Accuracy:  0.8323658536585365\n",
      "Iterations:  310\n",
      "[8 4 2 ... 6 0 0] [8 4 2 ... 6 0 0]\n",
      "Accuracy:  0.8389512195121951\n",
      "Iterations:  320\n",
      "[8 4 2 ... 6 0 0] [8 4 2 ... 6 0 0]\n",
      "Accuracy:  0.845390243902439\n",
      "Iterations:  330\n",
      "[8 4 2 ... 6 0 0] [8 4 2 ... 6 0 0]\n",
      "Accuracy:  0.8497073170731707\n",
      "Iterations:  340\n",
      "[8 4 2 ... 6 0 0] [8 4 2 ... 6 0 0]\n",
      "Accuracy:  0.8551463414634146\n",
      "Iterations:  350\n",
      "[8 4 2 ... 6 0 0] [8 4 2 ... 6 0 0]\n",
      "Accuracy:  0.8590243902439024\n",
      "Iterations:  360\n",
      "[8 4 2 ... 6 0 0] [8 4 2 ... 6 0 0]\n",
      "Accuracy:  0.8630731707317073\n",
      "Iterations:  370\n",
      "[8 4 2 ... 6 0 0] [8 4 2 ... 6 0 0]\n",
      "Accuracy:  0.8668536585365854\n",
      "Iterations:  380\n",
      "[8 4 2 ... 6 0 0] [8 4 2 ... 6 0 0]\n",
      "Accuracy:  0.8699024390243902\n",
      "Iterations:  390\n",
      "[8 4 2 ... 6 0 0] [8 4 2 ... 6 0 0]\n",
      "Accuracy:  0.8725609756097561\n",
      "Iterations:  400\n",
      "[8 4 2 ... 6 0 0] [8 4 2 ... 6 0 0]\n",
      "Accuracy:  0.8747317073170732\n",
      "Iterations:  410\n",
      "[8 4 2 ... 6 0 0] [8 4 2 ... 6 0 0]\n",
      "Accuracy:  0.876390243902439\n",
      "Iterations:  420\n",
      "[8 4 2 ... 6 0 0] [8 4 2 ... 6 0 0]\n",
      "Accuracy:  0.878219512195122\n",
      "Iterations:  430\n",
      "[8 4 2 ... 6 0 0] [8 4 2 ... 6 0 0]\n",
      "Accuracy:  0.8801463414634146\n",
      "Iterations:  440\n",
      "[8 4 2 ... 6 0 0] [8 4 2 ... 6 0 0]\n",
      "Accuracy:  0.8820975609756098\n",
      "Iterations:  450\n",
      "[8 4 2 ... 6 0 0] [8 4 2 ... 6 0 0]\n",
      "Accuracy:  0.8839024390243903\n",
      "Iterations:  460\n",
      "[8 4 2 ... 6 0 0] [8 4 2 ... 6 0 0]\n",
      "Accuracy:  0.8852926829268293\n",
      "Iterations:  470\n",
      "[8 4 2 ... 6 0 0] [8 4 2 ... 6 0 0]\n",
      "Accuracy:  0.8863658536585366\n",
      "Iterations:  480\n",
      "[8 4 2 ... 6 0 0] [8 4 2 ... 6 0 0]\n",
      "Accuracy:  0.887390243902439\n",
      "Iterations:  490\n",
      "[8 4 2 ... 6 0 0] [8 4 2 ... 6 0 0]\n",
      "Accuracy:  0.8884634146341464\n"
     ]
    }
   ],
   "source": [
    "W1, b1, W2, b2 = gradient_descent(X_train, Y_train, 0.10, 500)"
   ]
  },
  {
   "cell_type": "code",
   "execution_count": 13,
   "id": "d848a8d6",
   "metadata": {
    "execution": {
     "iopub.execute_input": "2025-10-09T17:30:24.312958Z",
     "iopub.status.busy": "2025-10-09T17:30:24.312626Z",
     "iopub.status.idle": "2025-10-09T17:30:24.319914Z",
     "shell.execute_reply": "2025-10-09T17:30:24.318877Z"
    },
    "papermill": {
     "duration": 0.016367,
     "end_time": "2025-10-09T17:30:24.321491",
     "exception": false,
     "start_time": "2025-10-09T17:30:24.305124",
     "status": "completed"
    },
    "tags": []
   },
   "outputs": [],
   "source": [
    "def make_predictions(X, W1, b1, W2, b2):\n",
    "    _, _, _, A2 = forward_prop(W1, b1, W2, b2, X)\n",
    "    predictions = get_predictions(A2)\n",
    "    return predictions\n",
    "\n",
    "def test_prediction(index, W1, b1, W2, b2):\n",
    "    current_image = X_train[:, index, None]\n",
    "    prediction = make_predictions(X_train[:, index, None], W1, b1, W2, b2)\n",
    "    label = Y_train[index]\n",
    "    print(\"Prediction: \", prediction)\n",
    "    print(\"Label: \", label)\n",
    "    \n",
    "    current_image = current_image.reshape((28, 28)) * 255\n",
    "    plt.gray()\n",
    "    plt.imshow(current_image, interpolation='nearest')\n",
    "    plt.show()"
   ]
  },
  {
   "cell_type": "code",
   "execution_count": 14,
   "id": "de29cbe8",
   "metadata": {
    "execution": {
     "iopub.execute_input": "2025-10-09T17:30:24.336132Z",
     "iopub.status.busy": "2025-10-09T17:30:24.335786Z",
     "iopub.status.idle": "2025-10-09T17:30:25.057588Z",
     "shell.execute_reply": "2025-10-09T17:30:25.056462Z"
    },
    "papermill": {
     "duration": 0.731278,
     "end_time": "2025-10-09T17:30:25.059355",
     "exception": false,
     "start_time": "2025-10-09T17:30:24.328077",
     "status": "completed"
    },
    "tags": []
   },
   "outputs": [
    {
     "name": "stdout",
     "output_type": "stream",
     "text": [
      "Prediction:  [8]\n",
      "Label:  8\n"
     ]
    },
    {
     "data": {
      "image/png": "[encoded data removed]",
      "text/plain": [
       "<Figure size 640x480 with 1 Axes>"
      ]
     },
     "metadata": {},
     "output_type": "display_data"
    },
    {
     "name": "stdout",
     "output_type": "stream",
     "text": [
      "Prediction:  [4]\n",
      "Label:  4\n"
     ]
    },
    {
     "data": {
      "image/png": "[encoded data removed]",
      "text/plain": [
       "<Figure size 640x480 with 1 Axes>"
      ]
     },
     "metadata": {},
     "output_type": "display_data"
    },
    {
     "name": "stdout",
     "output_type": "stream",
     "text": [
      "Prediction:  [2]\n",
      "Label:  2\n"
     ]
    },
    {
     "data": {
      "image/png": "[encoded data removed]",
      "text/plain": [
       "<Figure size 640x480 with 1 Axes>"
      ]
     },
     "metadata": {},
     "output_type": "display_data"
    },
    {
     "name": "stdout",
     "output_type": "stream",
     "text": [
      "Prediction:  [2]\n",
      "Label:  2\n"
     ]
    },
    {
     "data": {
      "image/png": "[encoded data removed]",
      "text/plain": [
       "<Figure size 640x480 with 1 Axes>"
      ]
     },
     "metadata": {},
     "output_type": "display_data"
    }
   ],
   "source": [
    "test_prediction(0, W1, b1, W2, b2)\n",
    "test_prediction(1, W1, b1, W2, b2)\n",
    "test_prediction(2, W1, b1, W2, b2)\n",
    "test_prediction(3, W1, b1, W2, b2)"
   ]
  },
  {
   "cell_type": "code",
   "execution_count": 15,
   "id": "e517142c",
   "metadata": {
    "execution": {
     "iopub.execute_input": "2025-10-09T17:30:25.078272Z",
     "iopub.status.busy": "2025-10-09T17:30:25.076704Z",
     "iopub.status.idle": "2025-10-09T17:30:25.089552Z",
     "shell.execute_reply": "2025-10-09T17:30:25.088688Z"
    },
    "papermill": {
     "duration": 0.024559,
     "end_time": "2025-10-09T17:30:25.091975",
     "exception": false,
     "start_time": "2025-10-09T17:30:25.067416",
     "status": "completed"
    },
    "tags": []
   },
   "outputs": [
    {
     "name": "stdout",
     "output_type": "stream",
     "text": [
      "[4 1 2 1 2 9 2 7 1 0 9 2 4 6 7 5 2 0 0 6 1 0 3 9 3 0 4 0 2 2 8 0 0 8 6 6 4\n",
      " 7 8 4 0 1 9 3 6 6 3 7 9 9 7 8 2 5 8 9 7 7 9 4 9 1 5 4 1 2 2 6 3 7 1 9 8 3\n",
      " 5 7 4 1 8 3 4 4 0 8 1 5 7 6 2 1 5 7 8 4 6 3 4 5 9 8 5 5 2 2 0 9 6 1 0 2 6\n",
      " 0 1 6 0 5 2 0 2 0 0 8 5 3 0 0 6 5 2 5 6 6 1 1 9 8 1 4 2 7 3 3 6 6 6 4 1 7\n",
      " 6 2 8 4 7 4 2 9 6 6 7 1 7 9 4 5 1 4 6 5 5 7 6 3 5 4 1 7 0 5 4 3 5 6 2 8 3\n",
      " 8 2 3 0 1 7 6 5 1 9 3 3 1 0 7 5 0 2 6 6 0 6 8 0 1 2 3 4 1 3 5 4 6 2 5 5 1\n",
      " 6 5 4 4 4 9 9 2 7 1 6 2 9 8 1 3 8 1 4 8 2 2 5 6 1 5 4 5 2 3 8 8 3 6 3 5 3\n",
      " 7 9 8 1 9 7 2 0 6 2 7 4 7 8 7 1 4 2 2 3 7 7 8 8 2 0 8 1 4 7 1 8 7 3 8 2 7\n",
      " 7 1 7 9 9 8 1 1 2 6 5 3 1 6 9 1 5 4 3 6 4 9 5 6 7 1 1 2 8 3 6 1 6 4 4 2 9\n",
      " 9 6 1 7 7 5 0 8 3 4 3 9 6 6 8 7 6 4 6 3 7 7 2 2 7 4 4 0 6 0 7 2 0 4 7 1 9\n",
      " 8 5 0 9 6 8 5 5 6 1 9 1 9 7 8 9 2 2 8 0 8 5 2 6 3 9 7 7 5 5 3 0 0 3 5 9 9\n",
      " 8 0 6 4 1 7 6 8 3 9 9 5 9 2 6 9 2 1 5 2 9 6 4 9 3 0 6 3 7 5 1 3 5 8 1 7 7\n",
      " 9 8 4 1 9 6 8 0 9 8 6 4 4 4 9 7 8 0 0 8 4 4 3 2 1 7 5 6 4 1 6 8 5 1 1 6 7\n",
      " 6 3 9 6 6 8 5 8 8 7 9 2 2 5 6 0 0 1 1 4 7 9 3 6 8 1 7 7 8 9 9 4 7 4 2 1 5\n",
      " 9 0 5 7 7 7 4 0 8 3 0 3 1 2 0 1 3 7 6 1 2 0 1 0 3 4 6 7 2 7 2 3 2 0 7 9 3\n",
      " 3 7 2 4 3 6 7 7 1 2 4 8 5 6 1 0 0 6 6 6 0 2 5 1 4 1 0 9 8 9 2 0 5 2 2 4 7\n",
      " 9 7 8 2 9 8 9 5 7 7 3 9 2 8 2 3 2 3 0 0 1 0 5 3 4 6 5 3 1 9 8 4 8 7 1 8 5\n",
      " 3 6 6 8 2 6 0 7 5 9 1 7 8 0 7 0 8 3 7 9 3 2 7 7 6 6 9 9 4 5 1 8 7 0 0 9 2\n",
      " 5 2 3 3 3 2 4 4 8 3 0 2 1 3 2 0 3 5 9 8 2 8 2 1 1 7 8 4 2 9 4 5 2 7 1 3 6\n",
      " 0 9 7 0 3 2 3 3 8 2 3 4 6 3 1 5 8 6 0 1 1 2 6 3 2 2 1 2 3 0 8 9 0 9 9 7 2\n",
      " 0 4 0 1 4 9 6 9 6 5 5 4 8 5 2 7 2 7 0 7 8 7 4 5 0 9 4 8 0 0 7 6 5 4 6 7 6\n",
      " 8 2 2 3 8 5 4 5 9 1 1 8 2 4 1 7 5 6 0 0 1 2 8 1 9 9 6 4 1 1 2 2 2 8 3 9 8\n",
      " 2 5 8 0 8 3 6 7 1 7 7 0 6 0 6 3 8 5 0 2 7 1 9 4 4 0 1 1 0 5 5 0 2 6 6 6 0\n",
      " 1 0 9 2 0 0 2 9 2 0 9 8 5 0 4 3 0 8 9 1 0 2 7 8 5 5 9 3 0 2 9 8 0 9 1 8 0\n",
      " 6 8 2 1 0 9 5 6 8 8 3 8 1 1 6 8 4 4 9 4 0 5 7 2 3 6 2 1 5 1 5 0 9 2 5 1 4\n",
      " 0 0 2 5 5 8 0 4 9 8 4 7 5 9 9 2 0 8 3 0 5 6 5 4 2 0 7 5 2 5 4 0 2 3 2 4 4\n",
      " 2 9 5 5 5 5 2 3 7 8 5 4 9 4 7 6 4 1 2 4 5 9 1 2 3 2 7 0 0 5 2 5 3 8 5 3 7\n",
      " 7] [4 1 2 1 2 9 2 7 1 0 9 0 4 6 9 5 2 0 0 6 1 0 3 4 3 0 4 0 2 2 8 0 0 5 6 6 4\n",
      " 7 1 4 6 1 7 1 6 6 8 7 9 9 7 8 2 3 8 7 7 7 9 4 9 1 5 9 1 2 2 6 3 7 8 9 6 3\n",
      " 5 7 4 1 8 3 9 4 0 8 1 5 7 1 2 1 3 7 8 4 6 3 4 5 9 8 9 8 2 2 0 9 6 1 0 2 6\n",
      " 0 2 6 7 5 2 0 2 0 0 8 5 5 0 0 6 5 2 5 6 6 1 1 7 8 1 4 2 7 3 2 6 6 6 4 1 7\n",
      " 0 2 9 4 9 4 8 9 6 6 7 1 7 9 4 5 1 4 6 5 5 7 6 3 5 4 1 7 0 5 4 3 5 6 2 3 3\n",
      " 8 2 5 0 1 7 6 5 1 9 3 3 1 0 7 5 0 2 6 6 0 6 8 0 1 8 3 4 1 3 5 4 6 2 5 5 1\n",
      " 2 5 9 4 4 9 9 2 7 1 6 2 9 7 1 3 8 1 4 8 2 2 5 6 1 5 4 5 2 3 8 8 3 6 3 5 3\n",
      " 7 9 8 1 7 7 2 0 6 0 7 4 7 8 7 1 7 1 2 7 7 7 8 8 2 0 8 1 5 7 1 8 7 3 8 2 7\n",
      " 7 1 7 9 9 8 1 1 3 6 3 3 1 6 9 8 5 4 3 6 4 9 5 6 7 1 1 2 4 3 6 1 6 9 4 2 9\n",
      " 9 6 1 7 7 5 0 8 3 4 3 4 6 6 8 7 6 4 6 3 7 7 2 2 8 4 4 0 6 0 7 7 0 4 3 1 9\n",
      " 8 6 0 9 6 8 5 5 6 1 9 8 9 7 8 9 2 2 8 0 8 5 8 6 3 9 7 7 5 5 3 0 0 5 5 9 9\n",
      " 8 0 6 4 1 7 6 8 3 7 9 5 9 2 6 7 2 1 5 2 9 6 9 7 3 7 6 3 7 5 1 3 5 8 1 7 7\n",
      " 9 8 4 1 9 6 7 0 9 8 6 4 4 4 9 7 8 0 0 8 4 9 3 2 1 7 5 6 4 1 6 8 5 1 1 6 9\n",
      " 3 3 9 6 6 8 5 8 8 3 9 2 2 5 6 0 0 1 1 4 7 9 3 6 8 1 7 7 8 9 9 2 7 4 2 1 5\n",
      " 9 0 8 7 7 7 4 0 8 3 0 3 1 2 0 1 3 7 5 1 2 0 8 0 8 4 6 7 2 7 2 3 2 0 7 9 5\n",
      " 3 7 2 4 3 6 7 7 1 8 4 8 5 6 1 0 0 4 0 6 0 2 5 1 4 1 0 7 8 9 2 0 5 2 2 4 7\n",
      " 9 7 8 2 9 8 9 5 7 7 3 9 2 3 2 3 2 3 0 0 1 0 5 3 9 6 5 3 1 9 8 9 8 7 1 5 5\n",
      " 8 6 6 2 2 6 0 7 5 9 1 7 8 0 7 0 8 3 7 9 3 2 2 7 6 6 9 9 4 5 1 8 7 0 0 9 2\n",
      " 5 2 3 3 3 2 4 4 8 3 0 2 1 3 2 0 3 5 9 8 2 8 2 1 1 7 8 4 3 9 4 5 2 7 1 3 6\n",
      " 0 9 7 0 3 2 3 3 8 2 3 4 4 3 1 5 3 6 0 1 1 2 6 3 2 2 1 2 3 0 8 7 2 5 8 7 3\n",
      " 0 4 0 8 9 9 5 9 6 5 5 4 8 5 2 7 7 7 0 7 8 7 4 5 0 3 4 8 0 0 9 6 5 9 6 7 4\n",
      " 8 2 5 3 8 5 4 5 9 1 1 8 2 4 1 7 5 6 0 5 1 2 8 1 9 9 6 4 1 9 2 2 2 8 5 9 8\n",
      " 7 5 8 0 5 3 6 7 1 7 7 0 6 0 6 3 8 5 0 7 7 1 9 4 4 0 1 1 0 5 5 0 2 6 6 6 0\n",
      " 1 0 9 2 0 0 2 9 2 0 9 8 5 0 4 3 0 8 9 1 0 2 7 8 5 5 9 3 0 2 4 8 0 9 1 8 0\n",
      " 8 8 2 1 0 9 5 6 8 9 3 8 1 1 6 8 2 4 9 4 0 5 7 2 3 6 9 1 5 1 5 0 5 2 0 1 4\n",
      " 0 0 2 3 5 3 0 4 7 8 4 7 5 9 9 2 0 2 3 0 5 6 8 4 2 0 9 5 2 5 5 0 2 3 2 4 4\n",
      " 2 9 5 5 5 0 2 3 7 8 5 4 9 4 7 6 6 1 2 4 5 9 8 2 3 2 7 0 0 0 2 5 3 8 8 3 7\n",
      " 7]\n"
     ]
    },
    {
     "data": {
      "text/plain": [
       "0.878"
      ]
     },
     "execution_count": 15,
     "metadata": {},
     "output_type": "execute_result"
    }
   ],
   "source": [
    "dev_predictions = make_predictions(X_dev, W1, b1, W2, b2)\n",
    "get_accuracy(dev_predictions, Y_dev)"
   ]
  },
  {
   "cell_type": "code",
   "execution_count": null,
   "id": "8eee7789",
   "metadata": {
    "papermill": {
     "duration": 0.007596,
     "end_time": "2025-10-09T17:30:25.108254",
     "exception": false,
     "start_time": "2025-10-09T17:30:25.100658",
     "status": "completed"
    },
    "tags": []
   },
   "outputs": [],
   "source": []
  }
 ],
 "metadata": {
  "kaggle": {
   "accelerator": "none",
   "dataSources": [
    {
     "databundleVersionId": 861823,
     "sourceId": 3004,
     "sourceType": "competition"
    }
   ],
   "dockerImageVersionId": 31153,
   "isGpuEnabled": false,
   "isInternetEnabled": true,
   "language": "python",
   "sourceType": "notebook"
  },
  "kernelspec": {
   "display_name": "Python 3",
   "language": "python",
   "name": "python3"
  },
  "language_info": {
   "codemirror_mode": {
    "name": "ipython",
    "version": 3
   },
   "file_extension": ".py",
   "mimetype": "text/x-python",
   "name": "python",
   "nbconvert_exporter": "python",
   "pygments_lexer": "ipython3",
   "version": "3.11.13"
  },
  "papermill": {
   "default_parameters": {},
   "duration": 52.332194,
   "end_time": "2025-10-09T17:30:25.738323",
   "environment_variables": {},
   "exception": null,
   "input_path": "__notebook__.ipynb",
   "output_path": "__notebook__.ipynb",
   "parameters": {},
   "start_time": "2025-10-09T17:29:33.406129",
   "version": "2.6.0"
  }
 },
 "nbformat": 4,
 "nbformat_minor": 5
}
