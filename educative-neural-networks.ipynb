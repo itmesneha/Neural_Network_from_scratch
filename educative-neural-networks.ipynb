{
 "cells": [
  {
   "cell_type": "markdown",
   "id": "957d2efd",
   "metadata": {
    "papermill": {
     "duration": 0.005015,
     "end_time": "2025-10-11T14:35:42.338781",
     "exception": false,
     "start_time": "2025-10-11T14:35:42.333766",
     "status": "completed"
    },
    "tags": []
   },
   "source": [
    "# Neural Networks"
   ]
  },
  {
   "cell_type": "code",
   "execution_count": 1,
   "id": "91e43f4c",
   "metadata": {
    "_cell_guid": "b1076dfc-b9ad-4769-8c92-a6c4dae69d19",
    "_uuid": "8f2839f25d086af736a60e9eeb907d3b93b6e0e5",
    "execution": {
     "iopub.execute_input": "2025-10-11T14:35:42.350367Z",
     "iopub.status.busy": "2025-10-11T14:35:42.350054Z",
     "iopub.status.idle": "2025-10-11T14:35:47.636731Z",
     "shell.execute_reply": "2025-10-11T14:35:47.635828Z"
    },
    "papermill": {
     "duration": 5.293524,
     "end_time": "2025-10-11T14:35:47.638395",
     "exception": false,
     "start_time": "2025-10-11T14:35:42.344871",
     "status": "completed"
    },
    "tags": []
   },
   "outputs": [],
   "source": [
    "import torch\n",
    "import torch.nn as nn\n",
    "import numpy as np"
   ]
  },
  {
   "cell_type": "code",
   "execution_count": 2,
   "id": "e39a11be",
   "metadata": {
    "execution": {
     "iopub.execute_input": "2025-10-11T14:35:47.648726Z",
     "iopub.status.busy": "2025-10-11T14:35:47.648274Z",
     "iopub.status.idle": "2025-10-11T14:35:47.683510Z",
     "shell.execute_reply": "2025-10-11T14:35:47.682378Z"
    },
    "papermill": {
     "duration": 0.042379,
     "end_time": "2025-10-11T14:35:47.685403",
     "exception": false,
     "start_time": "2025-10-11T14:35:47.643024",
     "status": "completed"
    },
    "tags": []
   },
   "outputs": [],
   "source": [
    "# initializes matrix W and vector b\n",
    "classifier = nn.Linear(5, 10) # 5 inputs 10 outputs"
   ]
  },
  {
   "cell_type": "code",
   "execution_count": 3,
   "id": "12c14459",
   "metadata": {
    "execution": {
     "iopub.execute_input": "2025-10-11T14:35:47.695003Z",
     "iopub.status.busy": "2025-10-11T14:35:47.694682Z",
     "iopub.status.idle": "2025-10-11T14:35:47.797392Z",
     "shell.execute_reply": "2025-10-11T14:35:47.796476Z"
    },
    "papermill": {
     "duration": 0.109632,
     "end_time": "2025-10-11T14:35:47.799209",
     "exception": false,
     "start_time": "2025-10-11T14:35:47.689577",
     "status": "completed"
    },
    "tags": []
   },
   "outputs": [
    {
     "data": {
      "text/plain": [
       "tensor([ 0.7889, -0.8749, -1.7647, -0.4678,  0.1724, -0.7130, -0.1860, -1.1708,\n",
       "        -0.7079,  1.1622])"
      ]
     },
     "execution_count": 3,
     "metadata": {},
     "output_type": "execute_result"
    }
   ],
   "source": [
    "model = nn.Linear(10,3) # 10 inputs 3 outputs\n",
    "loss = nn.MSELoss()\n",
    "## dummy input x\n",
    "input_vector = torch.randn(10)\n",
    "input_vector"
   ]
  },
  {
   "cell_type": "code",
   "execution_count": 4,
   "id": "38e3d637",
   "metadata": {
    "execution": {
     "iopub.execute_input": "2025-10-11T14:35:47.809310Z",
     "iopub.status.busy": "2025-10-11T14:35:47.808995Z",
     "iopub.status.idle": "2025-10-11T14:35:47.851966Z",
     "shell.execute_reply": "2025-10-11T14:35:47.850916Z"
    },
    "papermill": {
     "duration": 0.050192,
     "end_time": "2025-10-11T14:35:47.853739",
     "exception": false,
     "start_time": "2025-10-11T14:35:47.803547",
     "status": "completed"
    },
    "tags": []
   },
   "outputs": [
    {
     "name": "stdout",
     "output_type": "stream",
     "text": [
      "Prediction:  tensor([-0.7739,  0.4137,  0.3271], grad_fn=<ViewBackward0>)\n",
      "Output:  tensor(0.4076, grad_fn=<MseLossBackward0>)\n"
     ]
    }
   ],
   "source": [
    "## class number 3, denoted as a vector with the class index to 1\n",
    "target = torch.tensor([0,0,1])\n",
    "## y in math\n",
    "# passing the input vector to the model object of the linear classifier\n",
    "pred = model(input_vector)\n",
    "output = loss(pred, target) # loss is also object for MSE loss\n",
    "print(\"Prediction: \" ,pred)\n",
    "print(\"Output: \" , output)"
   ]
  },
  {
   "cell_type": "code",
   "execution_count": 5,
   "id": "51388d3a",
   "metadata": {
    "execution": {
     "iopub.execute_input": "2025-10-11T14:35:47.864146Z",
     "iopub.status.busy": "2025-10-11T14:35:47.863790Z",
     "iopub.status.idle": "2025-10-11T14:35:54.389720Z",
     "shell.execute_reply": "2025-10-11T14:35:54.388478Z"
    },
    "papermill": {
     "duration": 6.533142,
     "end_time": "2025-10-11T14:35:54.391273",
     "exception": false,
     "start_time": "2025-10-11T14:35:47.858131",
     "status": "completed"
    },
    "tags": []
   },
   "outputs": [
    {
     "name": "stdout",
     "output_type": "stream",
     "text": [
      "tensor(1.2210, grad_fn=<MseLossBackward0>)\n",
      "epoch 0, loss 1.2210241556167603\n",
      "tensor(0.7815, grad_fn=<MseLossBackward0>)\n",
      "epoch 1, loss 0.7814555168151855\n",
      "tensor(0.5001, grad_fn=<MseLossBackward0>)\n",
      "epoch 2, loss 0.5001314878463745\n",
      "tensor(0.3201, grad_fn=<MseLossBackward0>)\n",
      "epoch 3, loss 0.3200841248035431\n",
      "tensor(0.2049, grad_fn=<MseLossBackward0>)\n",
      "epoch 4, loss 0.2048538327217102\n",
      "tensor(0.1311, grad_fn=<MseLossBackward0>)\n",
      "epoch 5, loss 0.13110646605491638\n",
      "tensor(0.0839, grad_fn=<MseLossBackward0>)\n",
      "epoch 6, loss 0.08390815556049347\n",
      "tensor(0.0537, grad_fn=<MseLossBackward0>)\n",
      "epoch 7, loss 0.053701214492321014\n",
      "tensor(0.0344, grad_fn=<MseLossBackward0>)\n",
      "epoch 8, loss 0.03436878323554993\n",
      "tensor(0.0220, grad_fn=<MseLossBackward0>)\n",
      "epoch 9, loss 0.02199600636959076\n"
     ]
    }
   ],
   "source": [
    "def train():\n",
    "\n",
    "    model = nn.Linear(4,2) # 4 inputs 2 outputs\n",
    "\n",
    "    criterion = torch.nn.MSELoss()\n",
    "    optimizer = torch.optim.SGD(model.parameters(), lr=0.1)\n",
    "\n",
    "    for epoch in range(10):\n",
    "        # Converting inputs and labels to Variable\n",
    "        inputs = torch.Tensor([0.8,0.4,0.4,0.2])\n",
    "        labels = torch.Tensor([1,0])\n",
    "\n",
    "        # Clear gradient buffers because we don't want any gradient from previous epoch to carry forward\n",
    "        optimizer.zero_grad()\n",
    "\n",
    "        # get output from the model, given the inputs\n",
    "        outputs = model(inputs)\n",
    "\n",
    "        # get loss for the predicted output\n",
    "        loss = criterion(outputs, labels)\n",
    "        print(loss)\n",
    "\n",
    "        # get gradients w.r.t to parameters\n",
    "        loss.backward()\n",
    "\n",
    "        # update parameters\n",
    "        optimizer.step()\n",
    "\n",
    "        print('epoch {}, loss {}'.format(epoch, loss.item()))\n",
    "\n",
    "if __name__ == \"__main__\":\n",
    "    train()"
   ]
  },
  {
   "cell_type": "code",
   "execution_count": 6,
   "id": "e33de4fe",
   "metadata": {
    "execution": {
     "iopub.execute_input": "2025-10-11T14:35:54.401598Z",
     "iopub.status.busy": "2025-10-11T14:35:54.401106Z",
     "iopub.status.idle": "2025-10-11T14:35:54.407204Z",
     "shell.execute_reply": "2025-10-11T14:35:54.406490Z"
    },
    "papermill": {
     "duration": 0.013004,
     "end_time": "2025-10-11T14:35:54.408801",
     "exception": false,
     "start_time": "2025-10-11T14:35:54.395797",
     "status": "completed"
    },
    "tags": []
   },
   "outputs": [
    {
     "name": "stdout",
     "output_type": "stream",
     "text": [
      "Sequential(\n",
      "  (0): Linear(in_features=3, out_features=20, bias=True)\n",
      "  (1): ReLU()\n",
      "  (2): Linear(in_features=20, out_features=2, bias=True)\n",
      ")\n"
     ]
    }
   ],
   "source": [
    "model = nn.Sequential(\n",
    "        nn.Linear(3, 20), # 3 input features, 20 output features\n",
    "        nn.ReLU(), # activation,=\n",
    "        nn.Linear(20,2) # 2 output classes\n",
    ")\n",
    "\n",
    "print(model)"
   ]
  },
  {
   "cell_type": "code",
   "execution_count": 7,
   "id": "bc14985d",
   "metadata": {
    "execution": {
     "iopub.execute_input": "2025-10-11T14:35:54.419108Z",
     "iopub.status.busy": "2025-10-11T14:35:54.418457Z",
     "iopub.status.idle": "2025-10-11T14:35:54.425640Z",
     "shell.execute_reply": "2025-10-11T14:35:54.424451Z"
    },
    "papermill": {
     "duration": 0.013973,
     "end_time": "2025-10-11T14:35:54.427319",
     "exception": false,
     "start_time": "2025-10-11T14:35:54.413346",
     "status": "completed"
    },
    "tags": []
   },
   "outputs": [
    {
     "name": "stdout",
     "output_type": "stream",
     "text": [
      "Sequential(\n",
      "  (0): Linear(in_features=4, out_features=5, bias=True)\n",
      "  (1): ReLU()\n",
      "  (2): Linear(in_features=4, out_features=2, bias=True)\n",
      ")\n"
     ]
    }
   ],
   "source": [
    "model = nn.Sequential(\n",
    "        nn.Linear(4,5),\n",
    "        nn.ReLU(),\n",
    "        nn.Linear(4,2)\n",
    ")\n",
    "\n",
    "print(model)"
   ]
  },
  {
   "cell_type": "markdown",
   "id": "5e63f7f0",
   "metadata": {
    "papermill": {
     "duration": 0.004089,
     "end_time": "2025-10-11T14:35:54.436076",
     "exception": false,
     "start_time": "2025-10-11T14:35:54.431987",
     "status": "completed"
    },
    "tags": []
   },
   "source": [
    "## Universal approximation theorem:\n",
    "\n",
    "According to the universal approximation theorem, given enough neurons and the correct set of weights, a multi-layer NN can approximate any function. Learning this function is increasingly hard, and we have no guarantee that our data are enough to do so.\n",
    "\n",
    "Admittedly, that doesn’t mean we should only use NNs.\n",
    "\n",
    "In fact, we will learn about other models and how we can make a NN more compact, wider, or deeper to learn very rich data representations.\n",
    "\n",
    "Why is that even useful?\n",
    "\n",
    "Because NNs hide another secret besides being very good function approximators. They are also very good feature extractors.\n",
    "\n",
    "## Deep neural networks as feature extractors\n",
    "\n",
    "Feature extraction can be seen as the transformation of the input data points from the input space to the feature space where classification is much easier.\n",
    "\n",
    "Here is an intuitive and oversimplified example:\n",
    "\n",
    "Imagine that each data point has 70 dimensions. Finding the correct 70-dimensional function to distinguish the data into two categories is very difficult and time consuming.\n",
    "\n",
    "Instead, we transform our input to a three-dimensional space where a classifier can approximate the decision boundary more easily. If we transform the 3D decision boundary back to the 70-dimensional space, we will see that it corresponds to a 70-dimensional decision boundary.\n",
    "\n",
    "The transformed space does not always need to be low-dimensional, but high-dimensional spaces do not guarantee better results either.\n",
    "\n",
    "Think of the 70-dim example: if one of these input dimensions refers to the label, it would be enough to have 100% accuracy.\n",
    "\n",
    "In any case, this is the main reason Deep Neural Networks (DNNs) exist: to transform the input data into a “better” space. Better because we can classify the data more easily after we transform them!\n",
    "\n",
    "In fact, in most real-life applications, only the last one or two layers of a neural network performs the actual classification. The rest account for feature extraction and learning representations.\n",
    "\n"
   ]
  },
  {
   "cell_type": "markdown",
   "id": "5d491705",
   "metadata": {
    "papermill": {
     "duration": 0.004087,
     "end_time": "2025-10-11T14:35:54.444483",
     "exception": false,
     "start_time": "2025-10-11T14:35:54.440396",
     "status": "completed"
    },
    "tags": []
   },
   "source": [
    "## Build a Neural Network With Pytorch\n",
    "Implement a vanilla neural network from scratch using Pytorch."
   ]
  },
  {
   "cell_type": "code",
   "execution_count": 8,
   "id": "9ddefbf0",
   "metadata": {
    "execution": {
     "iopub.execute_input": "2025-10-11T14:35:54.454351Z",
     "iopub.status.busy": "2025-10-11T14:35:54.454027Z",
     "iopub.status.idle": "2025-10-11T14:35:54.458957Z",
     "shell.execute_reply": "2025-10-11T14:35:54.458154Z"
    },
    "papermill": {
     "duration": 0.011693,
     "end_time": "2025-10-11T14:35:54.460459",
     "exception": false,
     "start_time": "2025-10-11T14:35:54.448766",
     "status": "completed"
    },
    "tags": []
   },
   "outputs": [],
   "source": [
    "X = torch.tensor([1,2,3,4,5]) # 1d array\n",
    "Y = torch.tensor([[1,2], [3,4]]) # 2d array"
   ]
  },
  {
   "cell_type": "code",
   "execution_count": 9,
   "id": "0ff42c04",
   "metadata": {
    "execution": {
     "iopub.execute_input": "2025-10-11T14:35:54.470693Z",
     "iopub.status.busy": "2025-10-11T14:35:54.470357Z",
     "iopub.status.idle": "2025-10-11T14:35:54.478218Z",
     "shell.execute_reply": "2025-10-11T14:35:54.477475Z"
    },
    "papermill": {
     "duration": 0.014544,
     "end_time": "2025-10-11T14:35:54.479616",
     "exception": false,
     "start_time": "2025-10-11T14:35:54.465072",
     "status": "completed"
    },
    "tags": []
   },
   "outputs": [
    {
     "data": {
      "text/plain": [
       "tensor([8.])"
      ]
     },
     "execution_count": 9,
     "metadata": {},
     "output_type": "execute_result"
    }
   ],
   "source": [
    "def neuron(input):\n",
    "    W = torch.tensor([0.5,0.5,0.5]) # 3 x 1\n",
    "    b = torch.tensor([0.5]) # 1 x 1\n",
    "    return torch.add(torch.matmul(W, input), b)\n",
    "\n",
    "neuron(torch.tensor([5.0, 5.0, 5.0])) # 1 x 1"
   ]
  },
  {
   "cell_type": "markdown",
   "id": "a92db37a",
   "metadata": {
    "papermill": {
     "duration": 0.004059,
     "end_time": "2025-10-11T14:35:54.488035",
     "exception": false,
     "start_time": "2025-10-11T14:35:54.483976",
     "status": "completed"
    },
    "tags": []
   },
   "source": [
    "Note that the linear layer does not contain the activation function, so we have to explicitly declare them as well."
   ]
  },
  {
   "cell_type": "code",
   "execution_count": 10,
   "id": "3e1d1ac6",
   "metadata": {
    "execution": {
     "iopub.execute_input": "2025-10-11T14:35:54.498461Z",
     "iopub.status.busy": "2025-10-11T14:35:54.497353Z",
     "iopub.status.idle": "2025-10-11T14:35:54.503751Z",
     "shell.execute_reply": "2025-10-11T14:35:54.502703Z"
    },
    "papermill": {
     "duration": 0.013335,
     "end_time": "2025-10-11T14:35:54.505559",
     "exception": false,
     "start_time": "2025-10-11T14:35:54.492224",
     "status": "completed"
    },
    "tags": []
   },
   "outputs": [],
   "source": [
    "model = nn.Sequential(\n",
    "        nn.Linear(2, 3),\n",
    "        nn.Sigmoid(),\n",
    "        nn.Linear(3, 2),\n",
    "        nn.Sigmoid()\n",
    ")"
   ]
  },
  {
   "cell_type": "markdown",
   "id": "d6a66089",
   "metadata": {
    "papermill": {
     "duration": 0.004264,
     "end_time": "2025-10-11T14:35:54.514486",
     "exception": false,
     "start_time": "2025-10-11T14:35:54.510222",
     "status": "completed"
    },
    "tags": []
   },
   "source": [
    "## Program your own neural network\n",
    "\n",
    "Model class is inheriting (taking all the properties and methods) from PyTorch's base class, torch.nn.Module.\n",
    "\n",
    "nn.Module is the fundamental building block for all neural network modules (layers, loss functions, and entire models) in PyTorch. It automatically tracks trainable parameters, manages data movement (like .cuda()), and handles the forward/backward pass logic."
   ]
  },
  {
   "cell_type": "code",
   "execution_count": 11,
   "id": "7308628c",
   "metadata": {
    "execution": {
     "iopub.execute_input": "2025-10-11T14:35:54.524358Z",
     "iopub.status.busy": "2025-10-11T14:35:54.524020Z",
     "iopub.status.idle": "2025-10-11T14:35:54.536517Z",
     "shell.execute_reply": "2025-10-11T14:35:54.535394Z"
    },
    "papermill": {
     "duration": 0.019219,
     "end_time": "2025-10-11T14:35:54.537953",
     "exception": false,
     "start_time": "2025-10-11T14:35:54.518734",
     "status": "completed"
    },
    "tags": []
   },
   "outputs": [
    {
     "name": "stdout",
     "output_type": "stream",
     "text": [
      "model:  Model(\n",
      "  (linear1): Linear(in_features=2, out_features=3, bias=True)\n",
      "  (linear2): Linear(in_features=3, out_features=2, bias=True)\n",
      ")\n",
      "w1:  tensor([[-0.1998, -0.0198],\n",
      "        [-0.7021, -0.2804],\n",
      "        [-0.4792, -0.3639]])\n",
      "X:  tensor([[-0.5350,  0.3057]])\n",
      "Y:  tensor([[0.5077, 0.6630]], grad_fn=<SigmoidBackward0>)\n",
      "--- All Model Parameters ---\n",
      "Layer: linear1.weight | Shape: torch.Size([3, 2])\n",
      "Values:\n",
      "[[-0.19976814 -0.01980531]\n",
      " [-0.70210934 -0.2804035 ]\n",
      " [-0.47918278 -0.36394453]]\n",
      "\n",
      "Layer: linear1.bias | Shape: torch.Size([3])\n",
      "Values:\n",
      "[-0.00917335  0.2128045  -0.6331857 ]\n",
      "\n",
      "Layer: linear2.weight | Shape: torch.Size([2, 3])\n",
      "Values:\n",
      "[[-0.31730545 -0.38738433 -0.28919014]\n",
      " [ 0.16225891  0.349739   -0.31868428]]\n",
      "\n",
      "Layer: linear2.bias | Shape: torch.Size([2])\n",
      "Values:\n",
      "[0.54793125 0.49512607]\n",
      "\n"
     ]
    }
   ],
   "source": [
    "class Model(nn.Module):\n",
    "    def __init__(self):\n",
    "        super(Model, self).__init__()\n",
    "        self.linear1 = nn.Linear(2, 3)\n",
    "        self.linear2 = nn.Linear(3, 2)\n",
    "\n",
    "    def forward(self, X): # modifying the forward method of base class, linear layers will automatically us this\n",
    "        h = torch.sigmoid(self.linear1(X)) # passes input to first hidden layer, multiplies it by weights and does activation (sigmoid) function\n",
    "        o = torch.sigmoid(self.linear2(h)) # passes output of first hidden layer to second hidden layer, does activation\n",
    "        return o\n",
    "\n",
    "model = Model()\n",
    "print('model: ', model)\n",
    "print('w1: ', model.linear1.weight.data)\n",
    "X = torch.randn((1,2)) # 1 row 2 cols\n",
    "print('X: ', X)\n",
    "Y = model(X)\n",
    "print('Y: ', Y)\n",
    "\n",
    "print(\"--- All Model Parameters ---\")\n",
    "# .named_parameters() returns (name, parameter) tuples\n",
    "for name, param in model.named_parameters():\n",
    "    if 'weight' in name or 'bias' in name:\n",
    "        print(f\"Layer: {name} | Shape: {param.shape}\")\n",
    "        print(f\"Values:\\n{param.data.numpy()}\\n\")"
   ]
  },
  {
   "cell_type": "code",
   "execution_count": 12,
   "id": "9fad5e18",
   "metadata": {
    "execution": {
     "iopub.execute_input": "2025-10-11T14:35:54.549198Z",
     "iopub.status.busy": "2025-10-11T14:35:54.548871Z",
     "iopub.status.idle": "2025-10-11T14:35:54.566586Z",
     "shell.execute_reply": "2025-10-11T14:35:54.565529Z"
    },
    "papermill": {
     "duration": 0.025447,
     "end_time": "2025-10-11T14:35:54.568257",
     "exception": false,
     "start_time": "2025-10-11T14:35:54.542810",
     "status": "completed"
    },
    "tags": []
   },
   "outputs": [
    {
     "name": "stdout",
     "output_type": "stream",
     "text": [
      "tensor([[0.2195, 0.0326]], grad_fn=<AddmmBackward0>)\n"
     ]
    }
   ],
   "source": [
    "seed = 172\n",
    "torch.manual_seed(seed)\n",
    "torch.cuda.manual_seed(seed)\n",
    "\n",
    "def fnn(input):\n",
    "    model = nn.Sequential(\n",
    "            nn.Linear(10, 128),\n",
    "            nn.ReLU(),\n",
    "            nn.Linear(128,64),\n",
    "            nn.ReLU(),\n",
    "            nn.Linear(64, 2)\n",
    "    )\n",
    "\n",
    "    return model(input)\n",
    "\n",
    "input = torch.randn((1,10))\n",
    "print(fnn(input))"
   ]
  },
  {
   "cell_type": "markdown",
   "id": "df53df89",
   "metadata": {
    "papermill": {
     "duration": 0.004203,
     "end_time": "2025-10-11T14:35:54.577206",
     "exception": false,
     "start_time": "2025-10-11T14:35:54.573003",
     "status": "completed"
    },
    "tags": []
   },
   "source": [
    "## Optimization\n",
    "Explore the different variations of the gradient descent algorithm.\n",
    "\n",
    "### Batch Gradient Descent\n",
    "The equation and code presented above actually referred to batch gradient descent. In this variant, we calculate the gradient for the entire dataset on each training step before updating the weights.\n",
    "\n",
    "```\n",
    "for t in range(steps):\n",
    "  dw = gradient(loss, data, w)\n",
    "  w = w - learning_rate *dw\n",
    "```\n",
    "\n",
    "### Stochastic Gradient Descent\n",
    "Stochastic Gradient Descent (SGD) was introduced to address this exact issue. Instead of calculating the gradient over all training examples and updating the weights, SGD updates the weights for each training example \n",
    "\n",
    "```\n",
    "for t in range(steps):\n",
    "  for example in data:\n",
    "    dw = gradient(loss, example, w)\n",
    "    w = w - learning_rate *dw\n",
    "```\n",
    "\n",
    "As a result, SGD is much faster and more computationally efficient, but it has noise in the estimation of the gradient. Since it updates the weight frequently, it can lead to big oscillations and that makes the training process highly unstable.\n",
    "\n",
    "We continuously walk in a zig-zag fashion down the landscape, which keeps overshooting and missing our minimum. However, we can easily get away from local minimums for the same reason, and keep searching for a better one.\n",
    "\n",
    "### Mini-batch Stochastic Gradient Descent\n",
    "Mini-batch SGD sits right in the middle of the two previous ideas and combines the best of both worlds. It randomly selects n training examples — the so-called mini-batch — from the whole dataset and computes the gradients only from them. It essentially tries to approximate Batch Gradient Descent by sampling only a subset of the data.\n",
    "\n",
    "```\n",
    "for t in range(steps):\n",
    "  for mini_batch in get_batches(data, batch_size):\n",
    "    dw = gradient(loss, mini_batch, w)\n",
    "    w = w - learning_rate *dw\n",
    "```"
   ]
  },
  {
   "cell_type": "markdown",
   "id": "247260fc",
   "metadata": {
    "papermill": {
     "duration": 0.0042,
     "end_time": "2025-10-11T14:35:54.585873",
     "exception": false,
     "start_time": "2025-10-11T14:35:54.581673",
     "status": "completed"
    },
    "tags": []
   },
   "source": [
    "## Popular Optimization Algorithms\n",
    "A saddle point is a point on the surface of the graph of a function where the slopes (derivatives) are all zero but which is not a local maximum of the function.\n",
    "\n",
    "### Adding momentum\n",
    "\n",
    "```\n",
    "for t in range(steps):\n",
    "    dw = gradient(loss, w)\n",
    "    v = rho*v +dw   # velocity decayed by friction\n",
    "    w = w - learning_rate *v\n",
    "```\n",
    "\n",
    "### Adaptive learning rate\n",
    "perform smaller updates for frequent features and bigger ones for infrequent ones.\n",
    "\n",
    "#### Adagrad\n",
    "Adagrad keeps a running sum of the squares of the gradients in each dimension, and in each update, we scale the learning rate based on the sum. That way we achieve a different learning rate for each parameter (or an adaptive learning rate). Moreover, by using the root of the squared gradients, we only take into account the magnitude of the gradients and not the sign.\n",
    "\n",
    "```\n",
    "for t in range(steps):\n",
    "    dw = gradient(loss, w)\n",
    "    squared_gradients +=dw*dw\n",
    "    w = w - learning_rate * dw/ (squared_gradients.sqrt() + e)\n",
    "```\n",
    "\n",
    "A big drawback of Adagrad is that as time goes by, the learning rate becomes smaller and smaller due to the monotonic increment of the running squared sum.\n",
    "\n",
    "#### RMSprop\n",
    "A solution to this problem is a modification of the above algorithm called RMSProp, which can be thought of as a “Leaky Adagrad”. In essence, we once again add the notion of friction by decaying the sum of the previous squared gradients.\n",
    "\n",
    "As we did in momentum-based methods, we multiply our term (here the running squared sum) with a constant value (the decay rate). That way we hope that the algorithm will not slow down over the course of training as Adagrad does.\n",
    "\n",
    "```\n",
    "for t in range(steps):\n",
    "    dw = gradient(loss, w)\n",
    "    squared_gradients = decay_rate*squared_gradients + (1- decay_rate)* dw*dw\n",
    "    w = w - learning_rate * (dw/(squared_gradients.sqrt() + e)\n",
    "```\n",
    "\n",
    "#### Adam - used most commonly for DL\n",
    "Adam (Adaptive moment estimation) is arguably the most popular variation nowadays. It has been used extensively in both research and business applications. Its popularity is hidden in the fact that it combines the two best previous ideas, momentum and adaptive learning rate.\n",
    "\n",
    "We now keep track of two running variables, velocity and the squared gradients average we described in RMSProp. They are also called first and second moments in the original paper.\n",
    "\n",
    "```\n",
    "for t in range(steps):\n",
    "    dw = gradient(loss, w)\n",
    "    moment1= delta1 *moment1  +(1-delta1)* dw\n",
    "    moment2 = delta2*moment2 +(1-delta2)*dw*dw\n",
    "    moment1_unbiased = moment1  /(1-delta1**t)\n",
    "    moment2_unbiased = moment2  /(1-delta2**t)\n",
    "    w = w - learning_rate*moment1_unbiased/ (moment2_unbiased.sqrt()+e)\n",
    "```"
   ]
  },
  {
   "cell_type": "markdown",
   "id": "c8b7bcfa",
   "metadata": {
    "papermill": {
     "duration": 0.004246,
     "end_time": "2025-10-11T14:35:54.594713",
     "exception": false,
     "start_time": "2025-10-11T14:35:54.590467",
     "status": "completed"
    },
    "tags": []
   },
   "source": [
    "## Activation Functions\n",
    "Activation functions are applied element-wise and, as a result, are independent of the input shape.\n",
    "\n",
    "- Sigmoid\n",
    "- Tanh\n",
    "- ReLU\n",
    "- Leaky Relu\n",
    "- Parametric Relu\n",
    "- Softmax - We usually apply softmax in the last dimension of a multi-dimensional input. To do that in Pytorch, you can just set dim=-1.\n",
    "     ```\n",
    "  nn.Softmax(dim=-1)\n",
    "  ```\n"
   ]
  },
  {
   "cell_type": "code",
   "execution_count": 13,
   "id": "b7a8720f",
   "metadata": {
    "execution": {
     "iopub.execute_input": "2025-10-11T14:35:54.604963Z",
     "iopub.status.busy": "2025-10-11T14:35:54.604648Z",
     "iopub.status.idle": "2025-10-11T14:35:54.610463Z",
     "shell.execute_reply": "2025-10-11T14:35:54.609664Z"
    },
    "papermill": {
     "duration": 0.012851,
     "end_time": "2025-10-11T14:35:54.611997",
     "exception": false,
     "start_time": "2025-10-11T14:35:54.599146",
     "status": "completed"
    },
    "tags": []
   },
   "outputs": [],
   "source": [
    "def m_sigmoid(x):\n",
    "    return 1 / (1 + torch.exp(-x))\n",
    "\n",
    "\n",
    "def m_tanh(x):\n",
    "    return (torch.exp(x) - torch.exp(-x)) / (torch.exp(x) + torch.exp(-x))\n",
    "\n",
    "def m_relu(x):\n",
    "    return torch.mul(x, (x > 0))\n",
    "\n",
    "\n",
    "def m_softmax(x):\n",
    "    return torch.exp(x) / torch.sum(torch.exp(x))"
   ]
  },
  {
   "cell_type": "markdown",
   "id": "bdcd2e13",
   "metadata": {
    "papermill": {
     "duration": 0.004671,
     "end_time": "2025-10-11T14:35:54.621471",
     "exception": false,
     "start_time": "2025-10-11T14:35:54.616800",
     "status": "completed"
    },
    "tags": []
   },
   "source": [
    "## Training in Pytorch"
   ]
  },
  {
   "cell_type": "code",
   "execution_count": null,
   "id": "6467a710",
   "metadata": {
    "papermill": {
     "duration": 0.004263,
     "end_time": "2025-10-11T14:35:54.630285",
     "exception": false,
     "start_time": "2025-10-11T14:35:54.626022",
     "status": "completed"
    },
    "tags": []
   },
   "outputs": [],
   "source": []
  }
 ],
 "metadata": {
  "kaggle": {
   "accelerator": "none",
   "dataSources": [],
   "dockerImageVersionId": 31153,
   "isGpuEnabled": false,
   "isInternetEnabled": true,
   "language": "python",
   "sourceType": "notebook"
  },
  "kernelspec": {
   "display_name": "Python 3",
   "language": "python",
   "name": "python3"
  },
  "language_info": {
   "codemirror_mode": {
    "name": "ipython",
    "version": 3
   },
   "file_extension": ".py",
   "mimetype": "text/x-python",
   "name": "python",
   "nbconvert_exporter": "python",
   "pygments_lexer": "ipython3",
   "version": "3.11.13"
  },
  "papermill": {
   "default_parameters": {},
   "duration": 19.275534,
   "end_time": "2025-10-11T14:35:56.459554",
   "environment_variables": {},
   "exception": null,
   "input_path": "__notebook__.ipynb",
   "output_path": "__notebook__.ipynb",
   "parameters": {},
   "start_time": "2025-10-11T14:35:37.184020",
   "version": "2.6.0"
  }
 },
 "nbformat": 4,
 "nbformat_minor": 5
}
