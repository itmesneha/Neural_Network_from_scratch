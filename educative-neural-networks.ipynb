{
 "cells": [
  {
   "cell_type": "code",
   "execution_count": 1,
   "id": "848a7a9f",
   "metadata": {
    "_cell_guid": "b1076dfc-b9ad-4769-8c92-a6c4dae69d19",
    "_uuid": "8f2839f25d086af736a60e9eeb907d3b93b6e0e5",
    "execution": {
     "iopub.execute_input": "2025-10-11T13:03:54.488710Z",
     "iopub.status.busy": "2025-10-11T13:03:54.487780Z",
     "iopub.status.idle": "2025-10-11T13:03:58.844366Z",
     "shell.execute_reply": "2025-10-11T13:03:58.843477Z"
    },
    "papermill": {
     "duration": 4.361377,
     "end_time": "2025-10-11T13:03:58.845918",
     "exception": false,
     "start_time": "2025-10-11T13:03:54.484541",
     "status": "completed"
    },
    "tags": []
   },
   "outputs": [],
   "source": [
    "import torch\n",
    "import torch.nn as nn"
   ]
  },
  {
   "cell_type": "code",
   "execution_count": 2,
   "id": "b95e316d",
   "metadata": {
    "execution": {
     "iopub.execute_input": "2025-10-11T13:03:58.851136Z",
     "iopub.status.busy": "2025-10-11T13:03:58.850747Z",
     "iopub.status.idle": "2025-10-11T13:03:58.878884Z",
     "shell.execute_reply": "2025-10-11T13:03:58.878017Z"
    },
    "papermill": {
     "duration": 0.03218,
     "end_time": "2025-10-11T13:03:58.880520",
     "exception": false,
     "start_time": "2025-10-11T13:03:58.848340",
     "status": "completed"
    },
    "tags": []
   },
   "outputs": [],
   "source": [
    "# initializes matrix W and vector b\n",
    "classifier = nn.Linear(5, 10) # 5 inputs 10 outputs"
   ]
  },
  {
   "cell_type": "code",
   "execution_count": 3,
   "id": "888b643e",
   "metadata": {
    "execution": {
     "iopub.execute_input": "2025-10-11T13:03:58.884917Z",
     "iopub.status.busy": "2025-10-11T13:03:58.884632Z",
     "iopub.status.idle": "2025-10-11T13:03:58.957424Z",
     "shell.execute_reply": "2025-10-11T13:03:58.956575Z"
    },
    "papermill": {
     "duration": 0.076531,
     "end_time": "2025-10-11T13:03:58.958921",
     "exception": false,
     "start_time": "2025-10-11T13:03:58.882390",
     "status": "completed"
    },
    "tags": []
   },
   "outputs": [
    {
     "data": {
      "text/plain": [
       "tensor([ 0.3637, -1.1456, -0.6616,  0.7967,  0.6028,  0.3283, -0.1300,  1.2881,\n",
       "         0.6821, -0.8299])"
      ]
     },
     "execution_count": 3,
     "metadata": {},
     "output_type": "execute_result"
    }
   ],
   "source": [
    "model = nn.Linear(10,3) # 10 inputs 3 outputs\n",
    "loss = nn.MSELoss()\n",
    "## dummy input x\n",
    "input_vector = torch.randn(10)\n",
    "input_vector"
   ]
  },
  {
   "cell_type": "code",
   "execution_count": 4,
   "id": "0b0f10f4",
   "metadata": {
    "execution": {
     "iopub.execute_input": "2025-10-11T13:03:58.963977Z",
     "iopub.status.busy": "2025-10-11T13:03:58.963446Z",
     "iopub.status.idle": "2025-10-11T13:03:58.998494Z",
     "shell.execute_reply": "2025-10-11T13:03:58.997556Z"
    },
    "papermill": {
     "duration": 0.039032,
     "end_time": "2025-10-11T13:03:58.999871",
     "exception": false,
     "start_time": "2025-10-11T13:03:58.960839",
     "status": "completed"
    },
    "tags": []
   },
   "outputs": [
    {
     "name": "stdout",
     "output_type": "stream",
     "text": [
      "Prediction:  tensor([-0.4249, -0.4144,  0.2147], grad_fn=<ViewBackward0>)\n",
      "Output:  tensor(0.3230, grad_fn=<MseLossBackward0>)\n"
     ]
    }
   ],
   "source": [
    "## class number 3, denoted as a vector with the class index to 1\n",
    "target = torch.tensor([0,0,1])\n",
    "## y in math\n",
    "# passing the input vector to the model object of the linear classifier\n",
    "pred = model(input_vector)\n",
    "output = loss(pred, target) # loss is also object for MSE loss\n",
    "print(\"Prediction: \" ,pred)\n",
    "print(\"Output: \" , output)"
   ]
  },
  {
   "cell_type": "code",
   "execution_count": 5,
   "id": "4f639595",
   "metadata": {
    "execution": {
     "iopub.execute_input": "2025-10-11T13:03:59.004841Z",
     "iopub.status.busy": "2025-10-11T13:03:59.004362Z",
     "iopub.status.idle": "2025-10-11T13:04:04.402015Z",
     "shell.execute_reply": "2025-10-11T13:04:04.401141Z"
    },
    "papermill": {
     "duration": 5.401782,
     "end_time": "2025-10-11T13:04:04.403587",
     "exception": false,
     "start_time": "2025-10-11T13:03:59.001805",
     "status": "completed"
    },
    "tags": []
   },
   "outputs": [
    {
     "name": "stdout",
     "output_type": "stream",
     "text": [
      "tensor(0.6858, grad_fn=<MseLossBackward0>)\n",
      "epoch 0, loss 0.6858181357383728\n",
      "tensor(0.4389, grad_fn=<MseLossBackward0>)\n",
      "epoch 1, loss 0.4389236271381378\n",
      "tensor(0.2809, grad_fn=<MseLossBackward0>)\n",
      "epoch 2, loss 0.2809111177921295\n",
      "tensor(0.1798, grad_fn=<MseLossBackward0>)\n",
      "epoch 3, loss 0.17978310585021973\n",
      "tensor(0.1151, grad_fn=<MseLossBackward0>)\n",
      "epoch 4, loss 0.1150612086057663\n",
      "tensor(0.0736, grad_fn=<MseLossBackward0>)\n",
      "epoch 5, loss 0.07363917678594589\n",
      "tensor(0.0471, grad_fn=<MseLossBackward0>)\n",
      "epoch 6, loss 0.04712905362248421\n",
      "tensor(0.0302, grad_fn=<MseLossBackward0>)\n",
      "epoch 7, loss 0.03016260825097561\n",
      "tensor(0.0193, grad_fn=<MseLossBackward0>)\n",
      "epoch 8, loss 0.01930406503379345\n",
      "tensor(0.0124, grad_fn=<MseLossBackward0>)\n",
      "epoch 9, loss 0.012354605831205845\n"
     ]
    }
   ],
   "source": [
    "def train():\n",
    "\n",
    "    model = nn.Linear(4,2) # 4 inputs 2 outputs\n",
    "\n",
    "    criterion = torch.nn.MSELoss()\n",
    "    optimizer = torch.optim.SGD(model.parameters(), lr=0.1)\n",
    "\n",
    "    for epoch in range(10):\n",
    "        # Converting inputs and labels to Variable\n",
    "        inputs = torch.Tensor([0.8,0.4,0.4,0.2])\n",
    "        labels = torch.Tensor([1,0])\n",
    "\n",
    "        # Clear gradient buffers because we don't want any gradient from previous epoch to carry forward\n",
    "        optimizer.zero_grad()\n",
    "\n",
    "        # get output from the model, given the inputs\n",
    "        outputs = model(inputs)\n",
    "\n",
    "        # get loss for the predicted output\n",
    "        loss = criterion(outputs, labels)\n",
    "        print(loss)\n",
    "\n",
    "        # get gradients w.r.t to parameters\n",
    "        loss.backward()\n",
    "\n",
    "        # update parameters\n",
    "        optimizer.step()\n",
    "\n",
    "        print('epoch {}, loss {}'.format(epoch, loss.item()))\n",
    "\n",
    "if __name__ == \"__main__\":\n",
    "    train()"
   ]
  }
 ],
 "metadata": {
  "kaggle": {
   "accelerator": "none",
   "dataSources": [],
   "dockerImageVersionId": 31153,
   "isGpuEnabled": false,
   "isInternetEnabled": true,
   "language": "python",
   "sourceType": "notebook"
  },
  "kernelspec": {
   "display_name": "Python 3",
   "language": "python",
   "name": "python3"
  },
  "language_info": {
   "codemirror_mode": {
    "name": "ipython",
    "version": 3
   },
   "file_extension": ".py",
   "mimetype": "text/x-python",
   "name": "python",
   "nbconvert_exporter": "python",
   "pygments_lexer": "ipython3",
   "version": "3.11.13"
  },
  "papermill": {
   "default_parameters": {},
   "duration": 15.729734,
   "end_time": "2025-10-11T13:04:05.926383",
   "environment_variables": {},
   "exception": null,
   "input_path": "__notebook__.ipynb",
   "output_path": "__notebook__.ipynb",
   "parameters": {},
   "start_time": "2025-10-11T13:03:50.196649",
   "version": "2.6.0"
  }
 },
 "nbformat": 4,
 "nbformat_minor": 5
}
