{
 "cells": [
  {
   "cell_type": "code",
   "execution_count": 1,
   "id": "66b78ecc",
   "metadata": {
    "_cell_guid": "b1076dfc-b9ad-4769-8c92-a6c4dae69d19",
    "_uuid": "8f2839f25d086af736a60e9eeb907d3b93b6e0e5",
    "execution": {
     "iopub.execute_input": "2025-10-11T10:05:18.365188Z",
     "iopub.status.busy": "2025-10-11T10:05:18.364739Z",
     "iopub.status.idle": "2025-10-11T10:05:21.484681Z",
     "shell.execute_reply": "2025-10-11T10:05:21.483756Z"
    },
    "papermill": {
     "duration": 3.127163,
     "end_time": "2025-10-11T10:05:21.486507",
     "exception": false,
     "start_time": "2025-10-11T10:05:18.359344",
     "status": "completed"
    },
    "tags": []
   },
   "outputs": [],
   "source": [
    "import numpy as np\n",
    "import pandas as pd\n",
    "from sklearn.preprocessing import OneHotEncoder"
   ]
  },
  {
   "cell_type": "code",
   "execution_count": 2,
   "id": "e97afdb9",
   "metadata": {
    "execution": {
     "iopub.execute_input": "2025-10-11T10:05:21.494402Z",
     "iopub.status.busy": "2025-10-11T10:05:21.493964Z",
     "iopub.status.idle": "2025-10-11T10:05:21.538874Z",
     "shell.execute_reply": "2025-10-11T10:05:21.537937Z"
    },
    "papermill": {
     "duration": 0.050427,
     "end_time": "2025-10-11T10:05:21.540360",
     "exception": false,
     "start_time": "2025-10-11T10:05:21.489933",
     "status": "completed"
    },
    "tags": []
   },
   "outputs": [
    {
     "data": {
      "text/html": [
       "<div>\n",
       "<style scoped>\n",
       "    .dataframe tbody tr th:only-of-type {\n",
       "        vertical-align: middle;\n",
       "    }\n",
       "\n",
       "    .dataframe tbody tr th {\n",
       "        vertical-align: top;\n",
       "    }\n",
       "\n",
       "    .dataframe thead th {\n",
       "        text-align: right;\n",
       "    }\n",
       "</style>\n",
       "<table border=\"1\" class=\"dataframe\">\n",
       "  <thead>\n",
       "    <tr style=\"text-align: right;\">\n",
       "      <th></th>\n",
       "      <th>Id</th>\n",
       "      <th>SepalLengthCm</th>\n",
       "      <th>SepalWidthCm</th>\n",
       "      <th>PetalLengthCm</th>\n",
       "      <th>PetalWidthCm</th>\n",
       "      <th>Species</th>\n",
       "    </tr>\n",
       "  </thead>\n",
       "  <tbody>\n",
       "    <tr>\n",
       "      <th>0</th>\n",
       "      <td>1</td>\n",
       "      <td>5.1</td>\n",
       "      <td>3.5</td>\n",
       "      <td>1.4</td>\n",
       "      <td>0.2</td>\n",
       "      <td>Iris-setosa</td>\n",
       "    </tr>\n",
       "    <tr>\n",
       "      <th>1</th>\n",
       "      <td>2</td>\n",
       "      <td>4.9</td>\n",
       "      <td>3.0</td>\n",
       "      <td>1.4</td>\n",
       "      <td>0.2</td>\n",
       "      <td>Iris-setosa</td>\n",
       "    </tr>\n",
       "    <tr>\n",
       "      <th>2</th>\n",
       "      <td>3</td>\n",
       "      <td>4.7</td>\n",
       "      <td>3.2</td>\n",
       "      <td>1.3</td>\n",
       "      <td>0.2</td>\n",
       "      <td>Iris-setosa</td>\n",
       "    </tr>\n",
       "    <tr>\n",
       "      <th>3</th>\n",
       "      <td>4</td>\n",
       "      <td>4.6</td>\n",
       "      <td>3.1</td>\n",
       "      <td>1.5</td>\n",
       "      <td>0.2</td>\n",
       "      <td>Iris-setosa</td>\n",
       "    </tr>\n",
       "    <tr>\n",
       "      <th>4</th>\n",
       "      <td>5</td>\n",
       "      <td>5.0</td>\n",
       "      <td>3.6</td>\n",
       "      <td>1.4</td>\n",
       "      <td>0.2</td>\n",
       "      <td>Iris-setosa</td>\n",
       "    </tr>\n",
       "  </tbody>\n",
       "</table>\n",
       "</div>"
      ],
      "text/plain": [
       "   Id  SepalLengthCm  SepalWidthCm  PetalLengthCm  PetalWidthCm      Species\n",
       "0   1            5.1           3.5            1.4           0.2  Iris-setosa\n",
       "1   2            4.9           3.0            1.4           0.2  Iris-setosa\n",
       "2   3            4.7           3.2            1.3           0.2  Iris-setosa\n",
       "3   4            4.6           3.1            1.5           0.2  Iris-setosa\n",
       "4   5            5.0           3.6            1.4           0.2  Iris-setosa"
      ]
     },
     "execution_count": 2,
     "metadata": {},
     "output_type": "execute_result"
    }
   ],
   "source": [
    "data = pd.read_csv(\"/kaggle/input/iris/Iris.csv\")\n",
    "data.head()"
   ]
  },
  {
   "cell_type": "code",
   "execution_count": 3,
   "id": "79d4a189",
   "metadata": {
    "execution": {
     "iopub.execute_input": "2025-10-11T10:05:21.548369Z",
     "iopub.status.busy": "2025-10-11T10:05:21.547409Z",
     "iopub.status.idle": "2025-10-11T10:05:21.557646Z",
     "shell.execute_reply": "2025-10-11T10:05:21.556772Z"
    },
    "papermill": {
     "duration": 0.01553,
     "end_time": "2025-10-11T10:05:21.559086",
     "exception": false,
     "start_time": "2025-10-11T10:05:21.543556",
     "status": "completed"
    },
    "tags": []
   },
   "outputs": [
    {
     "data": {
      "text/plain": [
       "array(['Iris-setosa', 'Iris-versicolor', 'Iris-virginica'], dtype=object)"
      ]
     },
     "execution_count": 3,
     "metadata": {},
     "output_type": "execute_result"
    }
   ],
   "source": [
    "species_list = data['Species'].unique()\n",
    "species_list"
   ]
  },
  {
   "cell_type": "code",
   "execution_count": 4,
   "id": "b02c1f15",
   "metadata": {
    "execution": {
     "iopub.execute_input": "2025-10-11T10:05:21.566282Z",
     "iopub.status.busy": "2025-10-11T10:05:21.565979Z",
     "iopub.status.idle": "2025-10-11T10:05:21.571184Z",
     "shell.execute_reply": "2025-10-11T10:05:21.570306Z"
    },
    "papermill": {
     "duration": 0.010675,
     "end_time": "2025-10-11T10:05:21.572800",
     "exception": false,
     "start_time": "2025-10-11T10:05:21.562125",
     "status": "completed"
    },
    "tags": []
   },
   "outputs": [],
   "source": [
    "species_labels, species_list_ordered = pd.factorize(data['Species'])"
   ]
  },
  {
   "cell_type": "code",
   "execution_count": 5,
   "id": "3e589fbb",
   "metadata": {
    "execution": {
     "iopub.execute_input": "2025-10-11T10:05:21.580299Z",
     "iopub.status.busy": "2025-10-11T10:05:21.579983Z",
     "iopub.status.idle": "2025-10-11T10:05:21.586678Z",
     "shell.execute_reply": "2025-10-11T10:05:21.585590Z"
    },
    "papermill": {
     "duration": 0.012168,
     "end_time": "2025-10-11T10:05:21.588211",
     "exception": false,
     "start_time": "2025-10-11T10:05:21.576043",
     "status": "completed"
    },
    "tags": []
   },
   "outputs": [
    {
     "data": {
      "text/plain": [
       "array([0, 0, 0, 0, 0, 0, 0, 0, 0, 0, 0, 0, 0, 0, 0, 0, 0, 0, 0, 0, 0, 0,\n",
       "       0, 0, 0, 0, 0, 0, 0, 0, 0, 0, 0, 0, 0, 0, 0, 0, 0, 0, 0, 0, 0, 0,\n",
       "       0, 0, 0, 0, 0, 0, 1, 1, 1, 1, 1, 1, 1, 1, 1, 1, 1, 1, 1, 1, 1, 1,\n",
       "       1, 1, 1, 1, 1, 1, 1, 1, 1, 1, 1, 1, 1, 1, 1, 1, 1, 1, 1, 1, 1, 1,\n",
       "       1, 1, 1, 1, 1, 1, 1, 1, 1, 1, 1, 1, 2, 2, 2, 2, 2, 2, 2, 2, 2, 2,\n",
       "       2, 2, 2, 2, 2, 2, 2, 2, 2, 2, 2, 2, 2, 2, 2, 2, 2, 2, 2, 2, 2, 2,\n",
       "       2, 2, 2, 2, 2, 2, 2, 2, 2, 2, 2, 2, 2, 2, 2, 2, 2, 2])"
      ]
     },
     "execution_count": 5,
     "metadata": {},
     "output_type": "execute_result"
    }
   ],
   "source": [
    "species_labels"
   ]
  },
  {
   "cell_type": "code",
   "execution_count": 6,
   "id": "15211903",
   "metadata": {
    "execution": {
     "iopub.execute_input": "2025-10-11T10:05:21.595559Z",
     "iopub.status.busy": "2025-10-11T10:05:21.595237Z",
     "iopub.status.idle": "2025-10-11T10:05:21.602192Z",
     "shell.execute_reply": "2025-10-11T10:05:21.601278Z"
    },
    "papermill": {
     "duration": 0.012326,
     "end_time": "2025-10-11T10:05:21.603769",
     "exception": false,
     "start_time": "2025-10-11T10:05:21.591443",
     "status": "completed"
    },
    "tags": []
   },
   "outputs": [
    {
     "data": {
      "text/plain": [
       "Index(['Iris-setosa', 'Iris-versicolor', 'Iris-virginica'], dtype='object')"
      ]
     },
     "execution_count": 6,
     "metadata": {},
     "output_type": "execute_result"
    }
   ],
   "source": [
    "species_list_ordered"
   ]
  },
  {
   "cell_type": "code",
   "execution_count": 7,
   "id": "d1081342",
   "metadata": {
    "execution": {
     "iopub.execute_input": "2025-10-11T10:05:21.610813Z",
     "iopub.status.busy": "2025-10-11T10:05:21.610474Z",
     "iopub.status.idle": "2025-10-11T10:05:21.623315Z",
     "shell.execute_reply": "2025-10-11T10:05:21.622545Z"
    },
    "papermill": {
     "duration": 0.01783,
     "end_time": "2025-10-11T10:05:21.624661",
     "exception": false,
     "start_time": "2025-10-11T10:05:21.606831",
     "status": "completed"
    },
    "tags": []
   },
   "outputs": [
    {
     "data": {
      "text/html": [
       "<div>\n",
       "<style scoped>\n",
       "    .dataframe tbody tr th:only-of-type {\n",
       "        vertical-align: middle;\n",
       "    }\n",
       "\n",
       "    .dataframe tbody tr th {\n",
       "        vertical-align: top;\n",
       "    }\n",
       "\n",
       "    .dataframe thead th {\n",
       "        text-align: right;\n",
       "    }\n",
       "</style>\n",
       "<table border=\"1\" class=\"dataframe\">\n",
       "  <thead>\n",
       "    <tr style=\"text-align: right;\">\n",
       "      <th></th>\n",
       "      <th>Id</th>\n",
       "      <th>SepalLengthCm</th>\n",
       "      <th>SepalWidthCm</th>\n",
       "      <th>PetalLengthCm</th>\n",
       "      <th>PetalWidthCm</th>\n",
       "      <th>Species</th>\n",
       "      <th>target</th>\n",
       "    </tr>\n",
       "  </thead>\n",
       "  <tbody>\n",
       "    <tr>\n",
       "      <th>0</th>\n",
       "      <td>1</td>\n",
       "      <td>5.1</td>\n",
       "      <td>3.5</td>\n",
       "      <td>1.4</td>\n",
       "      <td>0.2</td>\n",
       "      <td>Iris-setosa</td>\n",
       "      <td>0</td>\n",
       "    </tr>\n",
       "    <tr>\n",
       "      <th>1</th>\n",
       "      <td>2</td>\n",
       "      <td>4.9</td>\n",
       "      <td>3.0</td>\n",
       "      <td>1.4</td>\n",
       "      <td>0.2</td>\n",
       "      <td>Iris-setosa</td>\n",
       "      <td>0</td>\n",
       "    </tr>\n",
       "    <tr>\n",
       "      <th>2</th>\n",
       "      <td>3</td>\n",
       "      <td>4.7</td>\n",
       "      <td>3.2</td>\n",
       "      <td>1.3</td>\n",
       "      <td>0.2</td>\n",
       "      <td>Iris-setosa</td>\n",
       "      <td>0</td>\n",
       "    </tr>\n",
       "    <tr>\n",
       "      <th>3</th>\n",
       "      <td>4</td>\n",
       "      <td>4.6</td>\n",
       "      <td>3.1</td>\n",
       "      <td>1.5</td>\n",
       "      <td>0.2</td>\n",
       "      <td>Iris-setosa</td>\n",
       "      <td>0</td>\n",
       "    </tr>\n",
       "    <tr>\n",
       "      <th>4</th>\n",
       "      <td>5</td>\n",
       "      <td>5.0</td>\n",
       "      <td>3.6</td>\n",
       "      <td>1.4</td>\n",
       "      <td>0.2</td>\n",
       "      <td>Iris-setosa</td>\n",
       "      <td>0</td>\n",
       "    </tr>\n",
       "  </tbody>\n",
       "</table>\n",
       "</div>"
      ],
      "text/plain": [
       "   Id  SepalLengthCm  SepalWidthCm  PetalLengthCm  PetalWidthCm      Species  \\\n",
       "0   1            5.1           3.5            1.4           0.2  Iris-setosa   \n",
       "1   2            4.9           3.0            1.4           0.2  Iris-setosa   \n",
       "2   3            4.7           3.2            1.3           0.2  Iris-setosa   \n",
       "3   4            4.6           3.1            1.5           0.2  Iris-setosa   \n",
       "4   5            5.0           3.6            1.4           0.2  Iris-setosa   \n",
       "\n",
       "   target  \n",
       "0       0  \n",
       "1       0  \n",
       "2       0  \n",
       "3       0  \n",
       "4       0  "
      ]
     },
     "execution_count": 7,
     "metadata": {},
     "output_type": "execute_result"
    }
   ],
   "source": [
    "data['target'] = species_labels\n",
    "data.head()"
   ]
  },
  {
   "cell_type": "code",
   "execution_count": 8,
   "id": "1dcd4b8d",
   "metadata": {
    "execution": {
     "iopub.execute_input": "2025-10-11T10:05:21.632815Z",
     "iopub.status.busy": "2025-10-11T10:05:21.632413Z",
     "iopub.status.idle": "2025-10-11T10:05:21.639191Z",
     "shell.execute_reply": "2025-10-11T10:05:21.638289Z"
    },
    "papermill": {
     "duration": 0.012551,
     "end_time": "2025-10-11T10:05:21.640673",
     "exception": false,
     "start_time": "2025-10-11T10:05:21.628122",
     "status": "completed"
    },
    "tags": []
   },
   "outputs": [
    {
     "data": {
      "text/plain": [
       "(150, 7)"
      ]
     },
     "execution_count": 8,
     "metadata": {},
     "output_type": "execute_result"
    }
   ],
   "source": [
    "data = np.array(data)\n",
    "data.shape"
   ]
  },
  {
   "cell_type": "code",
   "execution_count": 9,
   "id": "f8907aa3",
   "metadata": {
    "execution": {
     "iopub.execute_input": "2025-10-11T10:05:21.648501Z",
     "iopub.status.busy": "2025-10-11T10:05:21.648207Z",
     "iopub.status.idle": "2025-10-11T10:05:21.653856Z",
     "shell.execute_reply": "2025-10-11T10:05:21.653000Z"
    },
    "papermill": {
     "duration": 0.011124,
     "end_time": "2025-10-11T10:05:21.655258",
     "exception": false,
     "start_time": "2025-10-11T10:05:21.644134",
     "status": "completed"
    },
    "tags": []
   },
   "outputs": [],
   "source": [
    "# neural network setup\n",
    "\n",
    "N = 150 # batch size\n",
    "D_in = 4 # input dimension (# features)\n",
    "H = 100 # hidden layer dimension (# nodes)\n",
    "D_out = 3 # output classes\n",
    "\n",
    "# data setup\n",
    "\n",
    "x = np.array(data[:,1:5], dtype = np.float64)\n",
    "y = np.array(data[:,6]) # needs one hot encoding\n",
    "\n",
    "# x = 150 x 4\n",
    "# y = 150 x 3\n",
    "\n",
    "# W1 = 4 x 100\n",
    "# W2 = 100 x 3\n",
    "# op = 150 x 3\n",
    "\n",
    "w1, w2 = np.random.randn(D_in, H).astype(np.float64), np.random.randn(H, D_out).astype(np.float64)"
   ]
  },
  {
   "cell_type": "code",
   "execution_count": 10,
   "id": "9ce5aa60",
   "metadata": {
    "execution": {
     "iopub.execute_input": "2025-10-11T10:05:21.663172Z",
     "iopub.status.busy": "2025-10-11T10:05:21.662874Z",
     "iopub.status.idle": "2025-10-11T10:05:21.673974Z",
     "shell.execute_reply": "2025-10-11T10:05:21.672908Z"
    },
    "papermill": {
     "duration": 0.016764,
     "end_time": "2025-10-11T10:05:21.675447",
     "exception": false,
     "start_time": "2025-10-11T10:05:21.658683",
     "status": "completed"
    },
    "tags": []
   },
   "outputs": [
    {
     "name": "stdout",
     "output_type": "stream",
     "text": [
      "[1. 0. 0.]\n",
      "(150, 3)\n"
     ]
    }
   ],
   "source": [
    "# one hot encoding y\n",
    "\n",
    "encoder = OneHotEncoder(sparse_output=False)\n",
    "y = y.reshape(-1,1) # one hot encoder needs 2D array\n",
    "encoder.fit(y) # encoder object learns parameters for fitting on y\n",
    "y_one_hot = encoder.transform(y) # returns modifications on data\n",
    "encoder.categories_\n",
    "\n",
    "print(y_one_hot[0])\n",
    "print(y_one_hot.shape)"
   ]
  },
  {
   "cell_type": "code",
   "execution_count": 11,
   "id": "bfb19dd6",
   "metadata": {
    "execution": {
     "iopub.execute_input": "2025-10-11T10:05:21.683498Z",
     "iopub.status.busy": "2025-10-11T10:05:21.683201Z",
     "iopub.status.idle": "2025-10-11T10:05:24.958236Z",
     "shell.execute_reply": "2025-10-11T10:05:24.957279Z"
    },
    "papermill": {
     "duration": 3.281202,
     "end_time": "2025-10-11T10:05:24.960138",
     "exception": false,
     "start_time": "2025-10-11T10:05:21.678936",
     "status": "completed"
    },
    "tags": []
   },
   "outputs": [
    {
     "name": "stdout",
     "output_type": "stream",
     "text": [
      "iteration:  0 loss:  55.013028886294684\n",
      "iteration:  20 loss:  21.36890860300118\n",
      "iteration:  40 loss:  10.741318759311241\n",
      "iteration:  60 loss:  5.579587805539548\n",
      "iteration:  80 loss:  4.1538176909532485\n",
      "iteration:  100 loss:  3.6399995595170602\n",
      "iteration:  120 loss:  3.3638117279949946\n",
      "iteration:  140 loss:  3.3196157403046995\n",
      "iteration:  160 loss:  3.325980757076539\n",
      "iteration:  180 loss:  3.334790512776029\n",
      "iteration:  200 loss:  3.338175310743888\n",
      "iteration:  220 loss:  3.3349408178451494\n",
      "iteration:  240 loss:  3.326760348297758\n",
      "iteration:  260 loss:  3.315803830937204\n",
      "iteration:  280 loss:  3.314366526403502\n",
      "iteration:  300 loss:  3.312046381589433\n",
      "iteration:  320 loss:  3.309428425681622\n",
      "iteration:  340 loss:  3.3078880270102347\n",
      "iteration:  360 loss:  3.3079731602054707\n",
      "iteration:  380 loss:  3.3125330114153995\n",
      "iteration:  400 loss:  3.3291755662336646\n",
      "iteration:  420 loss:  3.3557435801758784\n",
      "iteration:  440 loss:  3.3733342267664557\n",
      "iteration:  460 loss:  3.375944020434538\n",
      "iteration:  480 loss:  3.3683341909061553\n"
     ]
    }
   ],
   "source": [
    "# putting it all together\n",
    "\n",
    "def sigmoid(z):\n",
    "    return (1.0 / (1.0 + np.exp(-z)))\n",
    "\n",
    "def softmax(z):\n",
    "    # stable values, keeping dim (150,1)\n",
    "    exp_z = np.exp(z - np.max(z, axis = 1, keepdims = True)) \n",
    "    return exp_z / np.sum(exp_z, axis = 1, keepdims = True) # (150, 3)\n",
    "\n",
    "def cross_entropy_loss(y_pred, y_true):\n",
    "    # ensure numerical stability: clip predictions close to 0 or 1\n",
    "    y_pred = np.clip(y_pred, 1e-12, 1.0 - 1e-12)\n",
    "    # categorical cross-entropy loss: L = - (1/N) * sum(y_true * log(y_pred))\n",
    "    N = y_true.shape[0]\n",
    "    loss = -np.sum(y_true * np.log(y_pred)) / N\n",
    "    return loss\n",
    "\n",
    "for iteration in range(500):\n",
    "    \n",
    "    # forward propagation\n",
    "\n",
    "    # sigmoid activation\n",
    "    z1=np.array(np.dot(x, w1),dtype=np.float64) # explicit type assignment\n",
    "    h = sigmoid(z1) # (150, 100)\n",
    "    z2 = h.dot(w2) # (150, 3)\n",
    "    y_pred = softmax(z2) # (150, 3)\n",
    "    loss = cross_entropy_loss(y_pred, y)\n",
    "    if iteration % 20 == 0:\n",
    "        print('iteration: ', iteration, 'loss: ', loss)\n",
    "\n",
    "    # calculate gradients for back propagation\n",
    "    grad_z2 = y_pred - y # (150, 3)\n",
    "    grad_w2 = h.T.dot(grad_z2) # (100, 3)\n",
    "    grad_h = grad_z2.dot(w2.T) # (150, 100)\n",
    "    grad_z1 = grad_h * h * (1 - h) # element-wise product for sigmoid derivative (150, 100)\n",
    "    grad_w1 = (x.T).dot(grad_z1) # (4, 100)\n",
    "\n",
    "    LR = 1e-4\n",
    "    w1 -= LR * grad_w1.astype(np.float64)\n",
    "    w2 -= LR * grad_w2.astype(np.float64)"
   ]
  },
  {
   "cell_type": "code",
   "execution_count": null,
   "id": "36656d46",
   "metadata": {
    "papermill": {
     "duration": 0.003789,
     "end_time": "2025-10-11T10:05:24.968090",
     "exception": false,
     "start_time": "2025-10-11T10:05:24.964301",
     "status": "completed"
    },
    "tags": []
   },
   "outputs": [],
   "source": []
  }
 ],
 "metadata": {
  "kaggle": {
   "accelerator": "none",
   "dataSources": [
    {
     "datasetId": 19,
     "sourceId": 420,
     "sourceType": "datasetVersion"
    }
   ],
   "dockerImageVersionId": 31153,
   "isGpuEnabled": false,
   "isInternetEnabled": true,
   "language": "python",
   "sourceType": "notebook"
  },
  "kernelspec": {
   "display_name": "Python 3",
   "language": "python",
   "name": "python3"
  },
  "language_info": {
   "codemirror_mode": {
    "name": "ipython",
    "version": 3
   },
   "file_extension": ".py",
   "mimetype": "text/x-python",
   "name": "python",
   "nbconvert_exporter": "python",
   "pygments_lexer": "ipython3",
   "version": "3.11.13"
  },
  "papermill": {
   "default_parameters": {},
   "duration": 11.950892,
   "end_time": "2025-10-11T10:05:25.591623",
   "environment_variables": {},
   "exception": null,
   "input_path": "__notebook__.ipynb",
   "output_path": "__notebook__.ipynb",
   "parameters": {},
   "start_time": "2025-10-11T10:05:13.640731",
   "version": "2.6.0"
  }
 },
 "nbformat": 4,
 "nbformat_minor": 5
}
